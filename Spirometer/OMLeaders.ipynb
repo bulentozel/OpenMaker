{
 "cells": [
  {
   "cell_type": "markdown",
   "metadata": {},
   "source": [
    "# Detecting the OpenMaker Opinion Leaders"
   ]
  },
  {
   "cell_type": "code",
   "execution_count": 1,
   "metadata": {
    "collapsed": true
   },
   "outputs": [],
   "source": [
    "from LibOM.Tools import *"
   ]
  },
  {
   "cell_type": "markdown",
   "metadata": {},
   "source": [
    "### 1. Retrieving influencers from the Watch Tower API\n",
    "The object that connects to [the Watch Tower](http://138.68.92.181:8484/api) API in order to retrieve the list of top influencers under each technical categories such as Arduino, 3D Printing and Raspberry Pi."
   ]
  },
  {
   "cell_type": "code",
   "execution_count": 2,
   "metadata": {
    "collapsed": true
   },
   "outputs": [],
   "source": [
    "ClientWT = WatchTower()\n",
    "influencer_names = ClientWT.retrieve_influencers()"
   ]
  },
  {
   "cell_type": "code",
   "execution_count": 3,
   "metadata": {
    "collapsed": false,
    "scrolled": true
   },
   "outputs": [
    {
     "name": "stdout",
     "output_type": "stream",
     "text": [
      "60\n",
      "_________________________\n",
      "3dprintindustry\n",
      "3DPrintGirl\n",
      "3dersorg\n",
      "3dsystems\n",
      "shapeways\n",
      "makerbot\n",
      "fabbaloo\n",
      "3DHubs\n",
      "3DPrintBoard\n",
      "ColorFabb\n",
      "My3DPrinting\n",
      "3dprinting\n",
      "3d_printers\n",
      "3dprinting3d\n",
      "3dprintingcom\n",
      "Ultimaker\n",
      "make\n",
      "imaterialise\n",
      "3DPrintingFans\n",
      "3DPrintingIt\n",
      "Raspberry_Pi\n",
      "htpc_guides\n",
      "hackaday\n",
      "adafruit\n",
      "lifehacker\n",
      "Pi_Borg\n",
      "pimoroni\n",
      "RPiSpy\n",
      "TheMagP1\n",
      "ThePiHut\n",
      "TabTimes\n",
      "androidcentral\n",
      "CodeClub\n",
      "RSComponents\n",
      "xKaliSec\n",
      "linuxfoundation\n",
      "element14\n",
      "StackSocial\n",
      "makerfaire\n",
      "ModMyPi\n",
      "Raspberry_Pi\n",
      "arduino\n",
      "adafruit\n",
      "make\n",
      "hackaday\n",
      "makerfaire\n",
      "sparkfun\n",
      "instructables\n",
      "mbanzi\n",
      "dangerousproto\n",
      "freetronics\n",
      "seeedstudio\n",
      "MicrochipMakes\n",
      "makerbot\n",
      "RealSexyCyborg\n",
      "element14\n",
      "planetarduino\n",
      "MakerShed\n",
      "arduinoblog\n",
      "Pi_Borg\n"
     ]
    }
   ],
   "source": [
    "print len(influencer_names)\n",
    "print \"_\"*25\n",
    "for inf in influencer_names: print inf"
   ]
  },
  {
   "cell_type": "markdown",
   "metadata": {},
   "source": [
    "### 2. Connecting to the Twitter API\n",
    "In order to get credentials to be able to connect to the Twitter:\n",
    "- Login to https://apps.twitter.com \n",
    " - If you already have twitter application you may use its credentials.\n",
    " - Or generate a new set of keys and tokens via \"Create a New App\" button.\n",
    "- Click \"Keys and Access Tokens\" tab and copy \"API key\", API secret\".\n",
    "- Click \"Create my Access Token\" and copy \"Access token\" and \"Access token secret\"."
   ]
  },
  {
   "cell_type": "code",
   "execution_count": 4,
   "metadata": {
    "collapsed": false
   },
   "outputs": [],
   "source": [
    "Credentials = {}\n",
    "Credentials['Consumer_Key'] = \"your key\" \n",
    "Credentials['Consumer_Secret'] = \"your secret\"\n",
    "Credentials['Access_Token'] = \"your token\" \n",
    "Credentials['Access_Token_Secret'] = \"your token secret\"\n",
    "\n",
    "ClientTwitter = Twitter(Credentials)"
   ]
  },
  {
   "cell_type": "code",
   "execution_count": 5,
   "metadata": {
    "collapsed": true
   },
   "outputs": [],
   "source": [
    "debates = ClientTwitter.retrieve_tweets(influencer_names[0:5], 50)"
   ]
  },
  {
   "cell_type": "code",
   "execution_count": 6,
   "metadata": {
    "collapsed": false,
    "scrolled": true
   },
   "outputs": [
    {
     "name": "stdout",
     "output_type": "stream",
     "text": [
      "________________________________________________________________________________\n",
      "Username:  3dersorg\n",
      "Number of tweets:  50\n",
      "--------------------\n",
      "Formlabs debuts Form Wash and Form Cure, two new post-processing tools for SLA 3D printing https://t.co/fH53bzdeij #3Dprinting https://t.co/C7mpHZdol1\n",
      "@formlabs debuts Form Wash and Form Cure, two new post-processing tools for SLA 3D printing https://t.co/fH53bzdeij #3Dprinting https://t.co/M43bX2AO3D\n",
      "GE Additive secures $20 million #3Dprinting investment, establishes new Customer Experience Center in Pittsburgh https://t.co/tSMvt10x9M https://t.co/yIKnm2djqH\n",
      "Minnesota researchers looking to create bionic humans by 3D printing sensors directly onto fingertips https://t.co/JIMzQXbr4W #3Dprinting https://t.co/zk860sQNtE\n",
      "HP launches global 3D printing reseller program, partners with Henkel for Open Materials Ecosystem, more https://t.co/8rqvly7UTD #3Dprinting https://t.co/U1tqUWJL9H\n",
      "@EnvisionTEC unveils new LED light system for P4 3D printer, new bioprinting materials, more https://t.co/VNU741iGj4 #3Dprinting https://t.co/FGIzmSLKIy\n",
      "@AerojetRdyne conducts hot-fire tests on 3D printed AR1 preburner, keeps up pressure on Blue Origin https://t.co/xf2RPmIGHY #3Dprinting https://t.co/8UTcTqtoy4\n",
      "Aerojet Rocketdyne conducts hot-fire tests on 3D printed AR1 preburner, keeps up pressure on Blue Origin https://t.co/xf2RPmIGHY #3Dprinting https://t.co/Q2uq9dFWr4\n",
      "UK's largest 3D printed master plan showcases East London's 10,800-home Barking Riverside development https://t.co/rcQldPlUwu #3Dprinting https://t.co/vx7q6mPsFN\n",
      "NASA awards $100K to winners of 'Compression Test Competition' of 3D Printed Habitat Challenge https://t.co/1nY35Vhsxn #3Dprinting https://t.co/0yr6FDYsXT\n",
      "Mind-bending 3D printed grotto, made from 7 tons of sandstone, premieres at Centre Pompidou\n",
      "https://t.co/tKRle3Rco5 #3dprinting https://t.co/oCqCaI6hBB\n",
      "Large-scale testing of biological 3D printing filament organized by BioFabNet\n",
      "https://t.co/Y8lyCiRUhs #3dprinting https://t.co/y2dliM0q7r\n",
      "#3DPrinting News ICYMI: First 3D printed home, 3D Systems,Konica Minolta, Tripodmaker’s 3D printed rocket, NTU,more\n",
      "https://t.co/An7qChKTWO https://t.co/shzsMqOV5C\n",
      "Growth under pressure: New 3D printable metamaterial designed with counterintuitive property\n",
      "https://t.co/FygUcxgKMb #3dprinting https://t.co/7SLeBcmmxh\n",
      "Redesign Sport uses 3D scanning for reverse engineering of 1952 Ferrari\n",
      "https://t.co/lKQIysFwEq #3dprinting https://t.co/GrcahUpwgL\n",
      "3D Hybrid Solutions &amp; Multiax to launch World's Largest Metal 3D Printer at Rapid\n",
      "https://t.co/4ZTkBl0s6U #3dprinting https://t.co/ZMdks4e5wb\n",
      "Conductive Electrifi filament helps Duke researchers make 3D printed electromagnetic metamaterials https://t.co/NGW4lYZtMh #3Dprinting https://t.co/TnD6SjTvoc\n",
      "Japan preserves Buddhist statues and cultural artifacts with #3Dscanning and #3Dprinting 🇯🇵 https://t.co/VltDftpqGI\n",
      "@steelmans3d PLA-based MatteForge 3D printing filament available for $28 per kg via Kickstarter https://t.co/0ukS3Fzc3i #3Dprinting https://t.co/3f97lPb075\n",
      "Steelmans' PLA-based MatteForge 3D printing filament available for $28 per kg via Kickstarter https://t.co/0ukS3Fzc3i #3Dprinting https://t.co/WiVrE2FG5k\n",
      "Duke undergrads work with doctors to 3D print titanium biomedical devices https://t.co/HQ78RG27LP #3Dprinting https://t.co/4HJNrA8zW9\n",
      "@TrendMicro hacks drone-making robotic 3D printer to demonstrate security risks https://t.co/TtifFbxoAS #3Dprinting https://t.co/XE2EY6ORH7\n",
      "Trend Micro hacks drone-making robotic 3D printer to demonstrate security risks https://t.co/TtifFbxoAS #3Dprinting https://t.co/y6zVnCWXKz\n",
      "Skanska's 6-axis 3D printing robot makes concrete cladding, attracts interest from UK companies https://t.co/mJ9zVBh1vJ #3Dprinting https://t.co/5JCUJ7vNjQ\n",
      "@makergear to debut M3 and M3 Independent Dual desktop 3D printers at RAPID Pittsburgh https://t.co/gQNJ88Fa1E #3Dprinting https://t.co/HPikzD2K8p\n",
      "Luxexcel raises $10M to accelerate ophthalmic lens 3D printing platform https://t.co/KxObjw14Ln #3Dprinting https://t.co/BlkYDm7YeX\n",
      "ESA researchers are 3D printing Moon habitat bricks using concentrated sunlight https://t.co/Q1ozjL5Bxe #3Dprinting\n",
      "Hexastorm: a transparent polygon laser scanner that could have a big impact on 3D printing https://t.co/CqPrG6vwaI #3Dprinting https://t.co/eVZcSloOOV\n",
      "@TheAMRC with Boeing develops hybrid 3D printing process that enables built-in electronics https://t.co/ECnc6wnnyR #3Dprinting https://t.co/gl94puTQ7s\n",
      "AMRC with Boeing develops hybrid 3D printing process that enables built-in electronics https://t.co/ECnc6wnnyR #3Dprinting https://t.co/i44vrQ0Z6n\n",
      "Vector successfully tests Vector-R launch vehicle with 3D printed injector component https://t.co/HhFdzzrSYL #3Dprinting https://t.co/hhTg3aZHy6\n",
      "Catalonia to open €28M Global 3D Printing Hub in 2020 with support from HP, Renishaw, Ricoh https://t.co/lak7EsW42x #3Dprinting https://t.co/cPNQjUY1rl\n",
      "@AaronLouisTech to launch first open-source 3D printer with closed loop motor on Kickstarter https://t.co/3YTXamZjaz #3Dprinting https://t.co/AzEQqliLrA\n",
      "Aaron Louis Technology to launch first open-source 3D printer with closed loop motor on Kickstarter https://t.co/3YTXamZjaz #3Dprinting https://t.co/B3zjPp7S7m\n",
      "Optomec improves copper ink performance for Aerosol Jet 3D printed electronics https://t.co/eOxgH927oK #3Dprinting https://t.co/vtF4ugVwSU\n",
      "@Livermore_Lab new glass 3D printing technique incorporates different refractive indices in a single flat optic https://t.co/CSUE47vevy https://t.co/1M31zpfl4Y\n",
      "LLNL's new glass 3D printing technique incorporates different refractive indices in a single flat optic https://t.co/CSUE47vevy #3Dprinting https://t.co/j1YHSBCer4\n",
      "OTHR showcases unique 3D printed vessels made by emerging designers at NY Collective Design Fair https://t.co/5TfillLAaY #3Dprinting https://t.co/Xt85coBfi1\n",
      "🍔 3D printed beef can create 'more value' for farmers, says Meat &amp; Livestock Australia https://t.co/Zc7NhbJ7Mn #3Dprinting https://t.co/OU0zwUR3pY\n",
      "3D printed tactile chess set helps visually impaired children in Argentina learn the game https://t.co/Fc9tDgqOLz #3Dprinting https://t.co/Urj6tLrwXm\n",
      "Scientists in southwest Germany develop erasable 3D printing ink for direct laser writing https://t.co/DjTtBWHn9N #3Dprinting https://t.co/iIDxyCQGLG\n",
      "3D Printing News ICYMI: Rebranding for Arcam, EOS joins 3MF Consortium, more https://t.co/xbKD3xP8O4 #3Dprinting https://t.co/6WewPAe5IG\n",
      "3D printed replica of destroyed Palmyra #Tetrapylon showcased at Creative Commons Summit https://t.co/gkh35UIgXz #3Dprinting https://t.co/7UlBaNwFh5\n",
      "Fraunhofer IOF researchers develop game-changing infrared 3D scanner https://t.co/Id6sasMNla #3Dscanning https://t.co/ZnQWsgbJcm\n",
      "Sea turtle that survived shark attack could swim again with 3D printed prosthetic flipper 🐢 https://t.co/eimrGj3uRj #3Dprinting https://t.co/WJsoQcMU5Z\n",
      "CAPTIVE: a 3D printed 6DoF controller that can manipulate virtual 3D objects 2x faster than competing tech https://t.co/CIigqPtpsK #3Dprint https://t.co/6cJzN7Rpsw\n",
      "Swedish researchers create 3D bioprinted human cartilage without animal testing https://t.co/ImV7IWWzMq #3Dprinting https://t.co/rf5gbV3n9g\n",
      "Researchers print self-folding 3D origami structures using projector and PowerPoint https://t.co/WwukGDGvZj #3Dprinting https://t.co/AMjgpn0xHZ\n",
      "‘The Drop’ to become New Zealand’s first 3D printed electric car https://t.co/08aCmxv7V0 #3Dprinting https://t.co/U6HuPipoSo\n",
      "Stratasys 3D printing tech makes @podfo foot orthotics tougher &amp; lighter https://t.co/1FplxtC8ND #3Dprinting https://t.co/7msVxZvCH3\n",
      "\n",
      "________________________________________________________________________________\n",
      "Username:  3DPrintGirl\n",
      "Number of tweets:  50\n",
      "--------------------\n",
      "How @Sony &amp; @PlayStation are Utilizing #3DPrinting to Accurately Portray In-Game Characters\n",
      "https://t.co/gm2blIUC3o https://t.co/4qMfZeAJgo\n",
      ".@UofUHealth Uses #3D Images and Automated Drill for Precise Brain Surgeries\n",
      "https://t.co/WOhiZ9CbEl https://t.co/jgkq57jiPR\n",
      ".@HongKongPolyU Opens Largest #3DPrinting Research Facility in the Region\n",
      "https://t.co/2KY1gp9y09 https://t.co/E284tR4a6j\n",
      "Program Released For Upcoming  @Inside3DPrint Melbourne Conference and Expo #3Dprinting\n",
      "https://t.co/vpMJgOP15I https://t.co/UIDa4k1KU0\n",
      ".@Wi3DP and @ImaCyantist Present #3DTalk on #3DPrinting and Design\n",
      "https://t.co/qlMxuWy7sR https://t.co/5B1ctdmuRD\n",
      ".@MaterialiseNV and @3DSystems Announce #3DPrinting Workflow Partnership at @RAPID_Event \n",
      "https://t.co/I1UvpEgfKB https://t.co/GezEmO1tmM\n",
      ".@3dsystems Focus on Plastic #AdditiveManufacturing: New Multi-Material #3DPrinter, #3Dprinting Materials, Software\n",
      "https://t.co/ZDsDeZ6v2O https://t.co/P79Hn2pvHP\n",
      ".@formlabs Introduces New #3DPrinting #PostProcessing Equipment at @RAPID_Event, Prepares for 1st Users' Conference\n",
      "https://t.co/ZTSZW5anKV https://t.co/dEj2keMKAa\n",
      ".@HP Scaling Its #3DPrinting Business - New Reseller Program, Partners, Centers, #3DPrinter Installations\n",
      "https://t.co/frC8tCjccM https://t.co/UTHJTtQsGr\n",
      ".@EnvisionTEC Introduces Seven New #3DPrinting Materials and Upgrade to Perfactory #3DPrinter Line\n",
      "https://t.co/ywgUrpzfzN https://t.co/BFTuBV7gKX\n",
      "25 Years of RAPID\n",
      "https://t.co/LnLPEMoRr1\n",
      "#3Dprinting @RAPID_Event #AdditiveManufacturing https://t.co/bfMnLBUMz2\n",
      ".@gwengineering Researchers Study #3DPrinting Synthetic Nerve Tissues to Help Patients with Bone &amp; Nerve Damage\n",
      "https://t.co/AVg7ekvdy9 https://t.co/3npVjI02Wa\n",
      ".@Luxexcel Receives $10 Million Equity Investment, Prepares to Begin Shipping #3DPrinting Platform\n",
      "https://t.co/YoRB1qssKT https://t.co/2L0C1lLLuu\n",
      "3D Printing News Briefs: May 5, 2017\n",
      "https://t.co/MDd36Hlm2V\n",
      "#3Dprinting https://t.co/PDH820suJB\n",
      "Hobs Studio #3DPrints a Giant Master Plan for a Giant Housing Development\n",
      "https://t.co/1bHSQPKCVT\n",
      "#3Dprinting @Hobs3D @barkingriver https://t.co/7pkMrOgWV3\n",
      ".@DukeU Researchers #3DPrint Electromagnetic #Metamaterials on a Prusa i3 Desktop #3DPrinter\n",
      "https://t.co/xuwXfv6GvA\n",
      "#3Dprinting https://t.co/ytWAuAKzPL\n",
      "Vector Space Systems Launches Test Flight of Vector-R Rocket, Featuring #3DPrinted Engine Injector\n",
      "https://t.co/94DoFpp2xm\n",
      "#3Dprinting https://t.co/c8vKPvg04o\n",
      ".@makergear Unveils Newest Workhorse Desktop #3DPrinters\n",
      "https://t.co/xcr8mzgjlg\n",
      "#3Dprinting https://t.co/3DWH8koq3n\n",
      ".@TheAMRC Develops New Method of #3DPrinting Embedded Materials\n",
      "https://t.co/LsyOTipcpd https://t.co/z6ygL1ALCX\n",
      ".@MaterialiseNV Announces Enhancements and Access to Metal #3DPrinting in Updated Magics 3D Print Suite Software\n",
      "https://t.co/uqkmLrmaLc https://t.co/bjYaMiFjbu\n",
      "3D Hybrid Solutions and @Multiax  to Introduce Massive Metal #3DPrinter / #CNC Hybrid at @RAPID_Event\n",
      "https://t.co/OWhbIXbZ52\n",
      "#3Dprinting https://t.co/XWwn8FcNzB\n",
      ".@Tripodmaker Sends #3DPrinted Belgian Comic Book Rocket to the Stratosphere to Celebrate New #3DPrinter Launch\n",
      "https://t.co/MsP79ouhZh https://t.co/L5xv4aWL6z\n",
      ".@BASF and Essentium Partner to Develop Strong New Polymer #3DPrinting Materials\n",
      "https://t.co/huTbvF4lH8\n",
      "@MaterialsGenius https://t.co/S277y3FOkH\n",
      ".@Roboze3D Makes Its Move into the United States, Bringing Industrial #3DPrinters to New York City\n",
      "https://t.co/cUTprwq2TY\n",
      "#3Dprinting https://t.co/NFRxPcaQ3k\n",
      "#3DPrinting Spotlight On: Jennifer Prioleau, Division Counsel, @HPBusiness \n",
      "https://t.co/RtWqMVPXko https://t.co/BV4qSBIMPg\n",
      ".@PrimaryMFG Uses @Carbon #3DPrinting Technology to Deliver Some High Quality Soundz\n",
      "https://t.co/oSADl5ttef https://t.co/0j0kP4vZrd\n",
      "DyeMansion Wins German Accelerator Tech Program, Bringing Coloring System for #3DPrinted Parts to Silicon Valley\n",
      "https://t.co/fT9lVd7dR3 https://t.co/8kDvXrL2Xy\n",
      ".@ESA #3DPrints Sturdy Bricks from Sunlight and Moon Dust\n",
      "https://t.co/tw9MrtXH9T\n",
      "#3Dprinting https://t.co/7HWDnaJQxq\n",
      "Children of @airwolf3d Employees Design Ltd Edition #3DPrinted #FidgetSpinners to Raise #ADHD Awareness\n",
      "https://t.co/lWiklSK1tV\n",
      "#3Dprinting https://t.co/Q1He33rkyj\n",
      ".@BeAM_3DPrinting showed https://t.co/kEYQFpc1Rp around their US #3Dprinting facility, shared data-driven strategy\n",
      "https://t.co/ejNQXlubxX https://t.co/J6mZD3LlnM\n",
      "Exclusive First Look: @BeAM_3DPrinting US Facility Highlights Metal #3DPrinting Capabilities, Data-Driven Growth\n",
      "https://t.co/ejNQXlubxX https://t.co/wglMt5WVBn\n",
      ".@nyutandon Students Utilize Digital Fabrication and #3DPrinting to Design Winning #ConcreteCanoe\n",
      "https://t.co/Q5UfExRERV https://t.co/CMsrs3y7k4\n",
      ".@Autodesk 2017 Roadmap for @adskFusion360 Details Updates and Improvements to Popular #3D Software Package\n",
      "https://t.co/Mh852veoM5\n",
      "#CAD https://t.co/CdOVBYODTf\n",
      "South African Maker's New Year's Resolution: Create a New #3DPrint Every Day in 2017\n",
      "https://t.co/P4hrnFpQwe https://t.co/HXG44bETR2\n",
      "LLNL Researchers Develop New Method of #3DPrinting Transparent Glass for Optical Applications\n",
      "https://t.co/5U6XaxcuQX https://t.co/S0V4sPMACJ\n",
      "Middle School Students Design and #3DPrint Container to Hold EIS Academy Experiments During Suborbital Rocket Launch\n",
      "https://t.co/iKfGvcCYIB https://t.co/UTLE2CmkMZ\n",
      ".@KITKarlsruhe Researchers Develop Erasable Ink for #3DPrinting\n",
      "https://t.co/46LUd52Lui https://t.co/qpXJKr2ceM\n",
      ".@GEAviation Expands Michigan Footprint by Opening Brilliant Factory with #3DPrinting Capabilities in Muskegon\n",
      "https://t.co/dYuUJd8xmU https://t.co/e3VtPAcCmr\n",
      "#3Dprinting News Briefs: May 2, 2017\n",
      "https://t.co/Ba5QbhX0DH https://t.co/WQyH2Yqxm8\n",
      "EOS Joins #3mfconsortium as Founding Member, Expands Presence at Incodema3D #3Dprinting\n",
      "https://t.co/Lpu0zdPG9F https://t.co/BNSU2dMmb8\n",
      "#3DPrinted Podfo Orthotics from @StratasysDirect and Peacocks Medical Group Offer Customization and Comfort\n",
      "https://t.co/SDIJox3Qw5 https://t.co/I0faE9MH84\n",
      "GKN Sinter Metals and @3YOURMIND Introduce InstAMetal Platform for Metal #3DPrinted Parts\n",
      "https://t.co/yemOwgGjjE https://t.co/90lazAgJ5U\n",
      "#3DPrinting Spotlight On: Nora Touré, Business Development Director, @Sculpteo; Founder, @Wi3DP \n",
      "https://t.co/CTY3E40DN1 https://t.co/LILAKE2XWM\n",
      ".@Organovo and @UVA Team Up to Address Volumetric Muscle Loss Through #3dprinting \n",
      "https://t.co/fUwaJKRmrG https://t.co/n9MGZrCtqO\n",
      "Parallelization to Scale Up Metal #AdditiveManufacturing: @Markforged CEO Details the Roadmap\n",
      "https://t.co/kswSdm4Ka7\n",
      "#3Dprinting https://t.co/ZuWRXHdNjY\n",
      "#3DPrinting in Space: Florida Institutes to Research Advanced Materials and Manufacturing for Space Exploration\n",
      "https://t.co/zSWkxIUapm https://t.co/AdQ0lwwFFB\n",
      ".@renishawplc Signs New #AdditiveManufacturing Solutions Centre Partner and Technology Distributor in China\n",
      "https://t.co/TyroWt7U4n https://t.co/kUNkyDAUXc\n",
      "#I3DPConf Melbourne is only one week away. Register now to save w/ pre-show rates, save an extra 15% w/ code 3DPRINT https://t.co/PjbaYe2zjX https://t.co/1TDe6CNtmc\n",
      "Inside the #WSU #3DEXPERIENCE Center: @Dassault3DS Execs Underscore #3DPrinting &amp; Advanced #Manufacturing in Kansas\n",
      "https://t.co/Ap29FNkZ2b https://t.co/LOzWsfZFLI\n",
      ".@DukeU Churns Out Thousands of #3DPrints per Month with Help from @3DPrinterOS\n",
      "https://t.co/EZl9az6PsN\n",
      "#3Dprinting https://t.co/0eDPeM8mjL\n",
      "\n",
      "________________________________________________________________________________\n",
      "Username:  3dsystems\n",
      "Number of tweets:  50\n",
      "--------------------\n",
      "Look at semiconductor industry. Lots of good parallels to what's going on in our industry.  #RAPIDEvent #3dprinting\n",
      "McManus: Hired architect and game designers and made them developers bc of design thinking #RAPIDEvent #learning https://t.co/YdQ4Qpcct8\n",
      "Morris/GE: Small helicopter engine design team task: Make as many additive parts as possible. Designed in 18 mos and ⬇️ costs.  #RAPIDEvent\n",
      "Vancraen: We can reduce the amount of scrap. But we can make biggest difference by making higher value products. Ex.: Eyeglass #RAPIDEvent\n",
      "Nigro: We have to pay attention to standards and regulations. We all have to work together as an industry to set these standards.\n",
      "HP's Nigro: it's still a small industry. The products have to compete w CNC injection molding.\n",
      "McManus: Information Carbon Cycle. That's how we should think of the process.\n",
      "VJ: Must look at the supply chain. Imperative to look at Total Cost of Operations.\n",
      "Our CEO VJ Vyomesh Joshi: the intersection of biological, physical, digital is where big opportunities are. https://t.co/z9LKw0zhaE\n",
      "GE - Have to think on system level not part level. Example: turbo prop engine. 35% additive parts. https://t.co/fzTl4OzWS4\n",
      "So much knowledge on stage. https://t.co/DAy5aCIqtn\n",
      "RT @SemanticMD: The Future of Surgery Lies Within the World of #VR @3dsystems #MedTech #DigitalHealth https://t.co/bkXIVX76bO\n",
      "RT @MichaellPetch: Vote now #3DPIAwards @Stratasys, @SLMSolutions_NA, @Carbon &amp; @3dsystems #3DPrinting\n",
      "https://t.co/W3GadHZGDu\n",
      "@SarahGoehrke Our pleasure!\n",
      "RT @3DPrintingIt: .@MaterialiseNV and @3DSystems Announce #3DPrinting Workflow Partnership at @RAPID_Event \n",
      "https://t.co/FaKtzyBiZU https:/…\n",
      "Come see why #SLA is the gold standard in #3dprinting at #RAPIDevent booth 2525 https://t.co/uClAd2sDYS\n",
      "These hearing aids took advantage of 3D labeling in Geomagic Freeform 2017 for mass custom #mfg  https://t.co/wBQhGordnI #RAPIDEvent https://t.co/5tYtJC6Dft\n",
      "Visit booth 2525 at #RAPIDEvent &amp; learn how 3D Sprint 2.5 could jumpstart your #3dprinting productivity https://t.co/Z2SI0mJHxx https://t.co/wjD5H360gC\n",
      "#Figure4 #3dprinting + NextDent materials can deliver better, faster &amp; more predictable patient treatments https://t.co/G5wPdZc6fi https://t.co/vQpe9ILUme\n",
      "Learn abt the @gentlegiantltd artistry &amp; #mfg expertise that went into these ltd edition #StarWars helmets https://t.co/Q1fBs1QUPK https://t.co/oSqbrc6ZEL\n",
      "#ReverseEngineering can deliver manufacturable products in 10% of the time. Learn more at #RAPIDevent booth 2525 https://t.co/uNsppxO70h https://t.co/No0XrzFit6\n",
      "RT @dianeparrish: Don't forget to get your photo taken with this guy @RAPID_Event @3dsystems #3dprinting https://t.co/VRrWsosjmT\n",
      "Come check out our amazing new ProJet MJP 5600 - faster, cheaper + larger build volume. Booth 25 https://t.co/IAo4tntSD2 #RAPIDEvent https://t.co/YY4Xvx3SA5\n",
      "At #RAPIDevent? Don't miss CEO panel at 4pm on the transformation of #mfg #3dprinting w Vyomesh Joshi https://t.co/FnRqaTNU5a https://t.co/sBa489G05m\n",
      "Visit us, booth 2525, at #RAPIDEvent to learn how 3D Sprint 2.5 could jumpstart your #3dprinting productivity https://t.co/VEcoxZa8wg\n",
      "Excited to share our new breakthrough solutions in plastic #3Dprinting at #RAPIDEvent https://t.co/B3H070UPJg https://t.co/xGe45pr4fK\n",
      "The Smart Support tools in 3D Sprint 2.5 deliver material savings of up to 60% in support generation #3dprinting https://t.co/UY30G0pPy6\n",
      "Need an all-in-1 answer to your metal #3Dprinting challenges? Our ProX DMP printers now ship w3DXpert software https://t.co/yd0UuUJhzW https://t.co/67yhLjr3Kd\n",
      "We are now bundling all our direct metal printers w 3DXpert software! #RAPIDEvent #3dprinting https://t.co/yd0UuUJhzW https://t.co/pWgr8TmzjP\n",
      "#RAPIDEvent in Pittsburg: 3DSystems is in the house! Come visit us at booth 2525 #RAPID2017 #RAPID_Event\n",
      "Discover the workflow @LenosGarage calls \"the future of the old car hobby\" - featuring #3Dscanning &amp; #3dprinting https://t.co/vEGOZP4BUg\n",
      "Informative piece by @AplncDsgn on how consolidating complex assemblies into 1 #3dprinted design saves time &amp; money  https://t.co/lo4vJ1hJio https://t.co/xHnOyOf02I\n",
      "3DXpert streamlines metal additive #mfg workflows &amp; optimizes DMP #3dprinting strategies https://t.co/2Isq2n2VqV\n",
      "Avoid tooling delays &amp; supply chain issues w/in-house or on demand #3dprinting https://t.co/d5dhQNEQNc\n",
      "DMP helped CEEE manufacture its heat exchanger w/non-conventional, variable shapes impossible to otherwise produce https://t.co/bAzvqCU1oo\n",
      "Measure. Understand. Communicate. Discover inspection w/Geomagic Control X https://t.co/twEeQh631o https://t.co/TXrpqf79U0\n",
      "What could be better to validate design than testing a prototype? Get a quote today on our next-gen Quickparts site https://t.co/x7otEsVBPo\n",
      "Learn how @GizzMoVest moved mold making in-house with the help of GibbsCAM to reduce lead time &amp; grow profit #mfg https://t.co/NtkMIDGD44\n",
      "Improvements enabled by #3dprinting helped this confectioner produce more efficiently w/lower maintenance costs https://t.co/9tE2FWih0w https://t.co/pvtHDnQ96S\n",
      "The design of these titanium implants promotes bone ingrowth in dogs for faster recovery &amp; is only possible w/#3dprinting #MfgInnovation https://t.co/HsmxtSWrPf\n",
      "A 3D #Scan2print workflow offered a unique solution to help rehabilitate this injured toucan #3dprinting https://t.co/a1ECNvknqt https://t.co/wAX02Omevu\n",
      "Announcing our next generation @Quickparts e-commerce site for fast-turn prototyping https://t.co/SH9i0Cg0sX\n",
      "“The benefits of #3Dprinting in our design&amp; development come down to cost, lead-time and quality” says @ForceIndiaF1 https://t.co/cn0cJ7RfZB https://t.co/4u2RMSftXK\n",
      "Thrilled to partner w/United Therapeutics to develop #3dprinting applications &amp; healthcare solutions of the future https://t.co/k61Qsm2NXP\n",
      "Hear from Katie Weimer, our VP of Medical Devices, today at 3:35PM PST on the future direction of materials in #3dprinting at #3DHEALS2017\n",
      "RT @CanonProPrintUK: Join us, @faroeurope &amp; @3dsystems in Uxbridge on 4th May and discover the transformative power of 3D technologies http…\n",
      "TY to all who nominated us for the 1st annual @3dprintindustry awards! Vote your top picks before the polls close: https://t.co/iT5kp0eIKC\n",
      "Curious about #3dprinting for wearables and prosthetics? Don't miss Evan Kuester tomorrow at #3DHEALS2017 https://t.co/tap21H1aA5\n",
      "Discover how @wiivvit uses production #3dprinting to create custom shoe inserts that help its customers #KeepGoing https://t.co/K9ZQWpuReS\n",
      "Value in #3dprinting starts w/design &amp; the ability to create more shapes more ways #MfgInnovation #mfg https://t.co/ZWYPAd74B3\n",
      "\n",
      "________________________________________________________________________________\n",
      "Username:  shapeways\n",
      "Number of tweets:  49\n",
      "--------------------\n",
      "RT @LisaGranshaw: Exclusive: 3D print a #tabletop miniature with this @shapeways tutorial https://t.co/rW6us1iu9V #DungeonsandDragons #dnd\n",
      "RT @themagicshop1: .@shapeways This will be the basic link of my next iteration of 3D #fabric. Same #topology as my previous one, but this…\n",
      "RT @cwestbrooksf: Finally made a prototype @fitbit Alta bracelet w @shapeways,kinks to work out,good enough to take to Vegas and wear w/ a…\n",
      "RT @MichaelA_Parker: Metal 3D printing is hot! Read it at the new Shapeways Magazine! #3dprinting #technology #shapeways @shapeways https:/…\n",
      "@themagicshop1 We still have a few of your square meshes hanging around at the EHV office, from Maker Faire Paris years ago!! Visitors are still amazed :-)\n",
      "@theRealVenger @El_Dodgero @The_REAL_Greg_T Community manager @Athomitron accepts your challenge but orcs be aware -- his army is strong!\n",
      "https://t.co/oNXMjDCNbz\n",
      "What meant to be a quick website update turned into a small roller coaster.. Apologies for that! How's your Monday?\n",
      "RT @wacom: Remember our 3D contest with @shapeways is still live until 31 may: https://t.co/hbDI5QcKC0. Thanks @MechvoidArsenal for your en…\n",
      "@themagicshop1 Maybe they learned from you Vincent! ;-)\n",
      "@fo0bar Hey @fo0bar yup agreed it's not the nicest notification to get -- we're investigating what's going on and hope to be back online soon!\n",
      "RT @manwiththe5d: If it wasn't for @Ponoko and @shapeways, these guys would be a lot more difficult to make. And I'm already working on ver…\n",
      "@El_Dodgero sorry for the inconvenience! Team's working hard to make it as short as possible, shouldn't be much longer!\n",
      "RT @snigro123: Congrats to our great partner @Shapeways on standing up HP Multi Jet Fusion #3DPrinting solutions today!  https://t.co/KMMsb…\n",
      "No worries, our website &amp; API gets scheduled maintenance today. Downtime from 1am EST (7am CEST), back online soon! https://t.co/ARccspQxRF\n",
      "RT @PluraBe: Check out the 3D printed Western Honey Bee Ring https://t.co/nK2bu8r3z0 via @shapeways\n",
      "RT @FunbieStudios: Also on display for the meetup this coming Saturday is this digital fabric piece printed via @shapeways! It's... https:/…\n",
      "Looking for #3Dprinted fashion&amp;accessories in #Singapore? Community member @FunbieStudios hosts a meetup next week! https://t.co/vME73tnIBw\n",
      "RT @HurricaneBarca: If none of the fidget spinners on the market are to your liking, assemble your own! Got this one designed by @idlehands…\n",
      "Wanna try 3D modeling your own miniature? Check our easy step-by-step tutorial on @Syfy! Thanks @LisaGranshaw!\n",
      "\n",
      "https://t.co/yJfkW8ulEC\n",
      "RT @Syfy: Are you a tabletop gamer?\n",
      "\n",
      "Learn the basics of 3D printing your own character, thanks to @Shapeways. \n",
      "https://t.co/YIg2ACutGh\n",
      "Check out our latest (micro) #3Dprinted #RCcar project profile in Shapeways Magazine: https://t.co/oPqB8IoqUE\n",
      "Find out why Shapeways is taking a stand for #NetNeutrality: https://t.co/dqwkYMSUKl\n",
      "We're celebrating #KingsDay with a one-day flash #sale! But what *is* #Koningsdag? Find out here: https://t.co/KN3wRNxq93 https://t.co/4u8UHkhbZ1\n",
      "Calling all #Designers! We're opening up early access to the groundbreaking @HP Jet Fusion #3D printer: https://t.co/4TY4ZcQNm0 https://t.co/TZzGBJ1LX8\n",
      "How can you 3D print without a desktop printer? @HowToGeek's @LordRavenscraft explores the options-Shapeways is one!\n",
      "https://t.co/gnIBU3aNOh\n",
      "This stunning sculpture is made of a single strand of PLA, thats over 7KM long... #Salone #MDW https://t.co/C0SisH4php https://t.co/azfGyCUH6E\n",
      "Your 3D selfies just got WAY easier, thanks to @Skanect. Here's how to get started: https://t.co/6BTMSilt4P https://t.co/pjzYyBIJHs\n",
      "Designed in part by @francisbitonti, this dress worn by @DitaVonTeese was a watershed moment in #3dP fashion.  https://t.co/SgAYLdbTde https://t.co/8DiYeetSC3\n",
      "#BLOG: These are the coolest miniatures we saw at #Adepticon https://t.co/Vflcfso7J3 https://t.co/ZOdwzy62bQ\n",
      "#EDITORIAL: OMG. (3dprinted) SHOES: https://t.co/1nOrSeOSBJ https://t.co/tIgJQuhXr5\n",
      "How one designer is trying to help climate change in an amazing way: https://t.co/gLVu0dhW7F\n",
      "\n",
      "@JoyComplex https://t.co/kiXZdqqx8z\n",
      "These 4 top selling products have one thing in common: https://t.co/FaX4DcSxIZ https://t.co/VOMM7EUNim\n",
      "We're looking for a community manager able to shake things up and influence the 3D printing and design community: https://t.co/unjWBJ6lQr https://t.co/jHfXyaDjW3\n",
      "RT @Athomitron: 3D team lead Alan showing the new https://t.co/WJO6DNb3uG community website @shapeways https://t.co/dIEsjoLF2O\n",
      "This stunning sculpture is made of a single strand of PLA, thats over 7KM long... #Salone #MDW https://t.co/C0SisH4php https://t.co/ebNYgZi1MJ\n",
      "RT @Athomitron: Crowd for talk on @shapeways at the International Plastic Modellers Society in Seattle https://t.co/0dE3lwKapI\n",
      "#3dprinted no longer means \"plastic\". Here's how we make our steel: https://t.co/yAaQt5H5AT https://t.co/h2iwetXHMX\n",
      "ALERT!! 🚨🔥\n",
      "\n",
      "We've just reduced our STEEL LEAD TIMES! Learn more: https://t.co/HnkyZIUD3v https://t.co/gv6YM1YgZE\n",
      "This single dress marked a watershed moment in 3D printed #fashion.  https://t.co/SgAYLdbTde https://t.co/cf8prDLRAR\n",
      "#TUTORIAL alert! @Cinema4D isn't just for use in the film industry; you can create stunning designs too: https://t.co/zfxYnp09Nr https://t.co/AohNlPiRS9\n",
      "Live in / around Seattle? We'll be there this weekend! Come hang out! https://t.co/KVJ1iyb6P4\n",
      "These tips for getting your personal jewelry brand rolling are 🔑: https://t.co/DWd9QhACov https://t.co/ABES6ZaJ8g\n",
      "RT @Athomitron: meetup at the @shapeways factory! https://t.co/iOMNwWszDW\n",
      "RT @Athomitron: meeting cool people who love 3D printing at the @shapeways Prototyping night @Meetup https://t.co/pTLNtOWe1M\n",
      "RT @LuugbidDesign: Now, #3Dprinted steel 🚢 2 days faster @shapeways  Labyrinth pendant from #Luugbid #3dprinting #jewelry #3D #Berlin https…\n",
      "#EDITORIAL 3D printed food is a lie... https://t.co/MeEpWZwBpP https://t.co/oo78kibJiD\n",
      "You won't believe this 7KM long single print. https://t.co/C0SisH4php https://t.co/z39Isokp7P\n",
      "ALERT!! 🚨🔥\n",
      "\n",
      "We've just reduced our STEEL LEAD TIMES! Learn more: https://t.co/HnkyZIUD3v https://t.co/Fj0TSo9IsG\n",
      "#3DPrint your way to autonomy? https://t.co/6XwrFgwx50 https://t.co/VCNBAdWGLr\n",
      "\n",
      "________________________________________________________________________________\n",
      "Username:  3dprintindustry\n",
      "Number of tweets:  47\n",
      "--------------------\n",
      "Stephen Nigro @HP - machines, TCO, materials, DfAM, new supply chains &amp; standards: 6 important areas to advance #3Dprinting #RAPIDevent https://t.co/z2iIQ8BDZ5\n",
      "A powerhouse panel with CEO's and leaders @MaterialiseNV, @GEAviation, @3dsystems &amp; @HP #RAPIDevent #3Dprinting https://t.co/1N1pl4jLRx\n",
      "#3DPIAwards Voting closes soon. @EOSNorthAmerica, @GEAdditive, @RenishawAM &amp; Xi’an BLT #3DPrinting\n",
      "https://t.co/rpkjlzGxqR\n",
      ".@Artec3DScanners LEO has caught Todd Grimm's attention. #RAPIDevent https://t.co/vdQVQAPLiE\n",
      "Todd Grim on the avalanche of new additive technologies. #RAPIDevent https://t.co/FIybbBs8Bc\n",
      "\"Dreams are becoming reality\" Rob Gorham @AmericaMakes #RAPIDevent https://t.co/fVdbDGRMr7\n",
      ".@Vader_Systems win the distinguished paper award. #RAPIDevent https://t.co/I0woYoDGpO\n",
      "Colleen Wivel @MaterialiseNV thanks the 12 AM community advisors. #RAPIDevent https://t.co/tFAzn815tc\n",
      "\"This is more than an event, it's a movement\" Debbie Holton @SME_MFG opens #RAPIDevent https://t.co/iNec1FJBOA\n",
      "A hybrid metal AM solution from @OptomecInc works with reactivate metals. More soon. #RAPIDevent https://t.co/JnaOdQiTTr\n",
      "Keynotes at #RAPIDevent are about to begin. https://t.co/mc83PXei58\n",
      "Readers nominated @josefprusa, @Ultimaker, @bcn3dtech &amp; Cubicon\n",
      "https://t.co/OQjTGpfPcq\n",
      "3D Systems launches ProJet MJP 5600 among several innovations at RAPID 2017 - https://t.co/PxOWfbtyO7 - #3dprinting #RAPIDevent #rapid2017 https://t.co/mDIvcpGmBU\n",
      "This room will be full later when #RAPIDevent keynotes begin. #3Dprinting https://t.co/PmsmaJgJ2L\n",
      "NASA award $100k to winners of 3D Printed Habitat Challenge Phase 2 - https://t.co/OZHphTUo3Z - #3dprinting #space https://t.co/UelJ8ODN6l\n",
      "Vote now #3DPIAwards @Stratasys, @SLMSolutions_NA, @Carbon &amp; @3dsystems #3DPrinting\n",
      "https://t.co/76zzw3chzi\n",
      "Formlabs announces Form Wash and Form Cure post-processing machines at RAPID 2017 - https://t.co/2zL9kb4Nhr - #3dprinting #RAPIDevent https://t.co/fnSbrfSub6\n",
      "#3Dprinting Industry are at #RAPIDevent this week. https://t.co/8lyVZrmhkg\n",
      "HP scale-up adoption of Multi Jet Fusion 3D printing on a global scale - https://t.co/quEG50l6CV - #3dprinting #RAPIDevent https://t.co/4pzNEb8fZG\n",
      "3D Printing Industry - Monday 8 May 2017 -  https://t.co/cHjDte9sgN\n",
      "British car restoration team uses 3D scanning to reverse engineer classic Ferrari - https://t.co/fc9U7eSaH2 - #3dprinting https://t.co/3D8cXVud8h\n",
      "Researchers blueprint a 3D printed metamaterial that expands under pressure - https://t.co/HtJyqrxZvV - #3dprinting https://t.co/RXHRXHAJBv\n",
      "The #3DPIAwards are almost here. @Markforged, @3DGence, @AON3D  &amp; @Stratasys are nominated. #3DPrinting\n",
      "https://t.co/IFMQQFXaXL\n",
      "Voting closes soon for the #3DPIAwards @B9Creations, @dwssystems, @formlabs &amp; @MiiCraft #3DPrinting\n",
      "https://t.co/0mj13WgcUF\n",
      "RT @HPBusiness: 3D printing is a reality! Come to @RAPID_Event  and discover how we are reinventing printing. #3DbyHP #RAPIDevent https://t…\n",
      "RT @IreneHealey: I'm speaking next week at #RAPIDevent in Pittsburgh on work I'm doing on #3Dprinting functional finger prostheses https://…\n",
      "RT @VETech3D: #RAPIDevent @3DVeterans will be @RAPID_Event this week for our #3Dprinting #Veteran boot camp! Join us APPLY! https://t.co/fe…\n",
      "Last chance for #3DPIAwards voting @VerbatimEurope, @Polymaker_3D, @3Dpcb &amp; @3dsystems\n",
      "https://t.co/sQeQ5hBuXX\n",
      "RT @3dprintindustry: 3D Hybrid Solutions with Multiax to launch \"world’s largest metal 3D printer\" at RAPID - https://t.co/tdIZPIsAGF - #3d…\n",
      "Vote for @3dsystems, @HP, @Stratasys or @3Dwasp in the #3DPIAwards #3DPrinting https://t.co/uTQ7G4jiF5\n",
      "RT @RAPID_Event: As we get ready for RAPID + TCT 2017, @3dprintindustry looks back at the past 5 years at RAPID: https://t.co/kEJOxr4oGE #R…\n",
      "RT @authentise: .@apweg &amp; Anusha Iyer will hold a session @RAPID_Event titled \"Innovative Uses of Geometric Search to Advance #AM https://t…\n",
      "RT @Jabil: Join us next Tuesday at @RAPID_Event! Our VP of Digital #Mfg, @johndulchinos, will be presenting! #RAPIDevent https://t.co/6cmpF…\n",
      "RT @TonerPlastics: Heading out to Pittsburgh for #RAPIDevent #3dprinting favorite trade show.  Come see us at booth 941\n",
      "An interesting live stream happening now: #3DPrinting Lady Chat https://t.co/dyhAvU3yg1 via  @makeandfake\n",
      "5 Years of the 3D printing industry at RAPID - https://t.co/jaTr0DoiZ3 - #3dprinting #RAPIDevent https://t.co/zMUkZYP54T\n",
      "RT @3dprintindustry: 3D printing - the behind-the-scenes co-star of Alien: Covenant - https://t.co/0Z39RTKgvx - #3dprinting #AlienCovenant…\n",
      "RT @RAPID_Event: .@3dprintindustry highlights some of the tech you can expect to see at RAPID + TCT 2017: https://t.co/1LQMfOPEzL #RAPIDeve…\n",
      "RT @snigro123: Join me for reinvention, innovation and #3DP on the “Transformation of Manufacturing” panel 5/8 4pm @RAPID_event https://t.c…\n",
      "3D Printing Industry - Saturday 6 May 2017 -  https://t.co/ojf1aKYqvN\n",
      "@nora3dp @Wi3DP @RAPID_Event We'll see you there!\n",
      "RT @RAPID_Event: Visit the Technology LaunchPad at #RAPIDevent, a showcase of the latest AM applications and product announcements: https:/…\n",
      "RT @makeandfake: It's happening!!! First ever 3D print community Lady Chat! Tomorrow at 12pm EST. Come watch and ask us questions!\n",
      "https://…\n",
      "3D Printing News Sliced: Google, EOS, ARC Group Worldwide, Hobs Studio - https://t.co/WGoU7P6Avp - #3dprinting https://t.co/VdtMVZ2VUQ\n",
      "RT @3dprintindustry: 3D Printing Industry Awards winning design announced - https://t.co/XmHHKHBgYt - @VirtualFoundry #3dprinting #3DPIAwar…\n",
      "RT @Scan_The_World: 100+ scans incoming from @metmuseum, free to download and ready for #3Dprinting. This fragment of a youth is a personal…\n",
      "3D printing - the behind-the-scenes co-star of Alien: Covenant - https://t.co/0Z39RTKgvx - #3dprinting #AlienCovenant https://t.co/eD61FCT7r7\n",
      "\n"
     ]
    }
   ],
   "source": [
    "for user,data in debates.items():\n",
    "    print \"_\"*80\n",
    "    print \"Username: \", user\n",
    "    print \"Number of tweets: \", data['ntweets']\n",
    "    print \"-\"*20\n",
    "    for tweet in data['content'].split(\"\\n\"): print tweet"
   ]
  },
  {
   "cell_type": "markdown",
   "metadata": {},
   "source": [
    "### 3. Internal dictionary based text annotaion/feature extraction\n",
    "This module will be revised. It will be the major focus of this work in further iterations. The current mapping from expressions to categories are tentative. For the time being it is mainly for a demonstrative purpose. "
   ]
  },
  {
   "cell_type": "code",
   "execution_count": 7,
   "metadata": {
    "collapsed": false,
    "scrolled": false
   },
   "outputs": [],
   "source": [
    "MD = MakerDictionary()"
   ]
  },
  {
   "cell_type": "code",
   "execution_count": 8,
   "metadata": {
    "collapsed": false,
    "scrolled": true
   },
   "outputs": [
    {
     "name": "stdout",
     "output_type": "stream",
     "text": [
      "anti-mass 7\n",
      "sharing 2\n",
      "collectiveness 3\n",
      "innovation 6\n",
      "sustainability 4\n",
      "customization 5\n",
      "openness 1\n",
      "democratization 8\n",
      "making 0\n"
     ]
    }
   ],
   "source": [
    "for name, code in MD.categories.items(): print name, code"
   ]
  },
  {
   "cell_type": "code",
   "execution_count": 9,
   "metadata": {
    "collapsed": false,
    "scrolled": true
   },
   "outputs": [
    {
     "name": "stdout",
     "output_type": "stream",
     "text": [
      "____________________________________________________________\n",
      "openness  ::  1\n",
      "['F-OSS', 'F/OSS', 'FOSS', 'OSS', 'Open-source', 'access*', 'available online', 'co-design*', 'co-funding', 'collaborative learning', 'creative commons', 'democratization of making', 'downloadable', 'editable', 'free software*', 'free*', 'free-software*', 'open design', 'open manufact*', 'open source ', 'open*', 'p2p', 'peer-to-peer', 'reciprocity', 'social', 'socialization of production ', 'transparency']\n",
      "____________________________________________________________\n",
      "making  ::  0\n",
      "['DIY', 'F-OSS', 'F/OSS', 'FOSS', 'OSS', 'Open-source', 'access*', 'adopt*', 'alter*', 'alternative', 'altruist*', 'artisan spirit', 'available online', 'changeable', 'choice*', 'circular economy', 'climate*', 'co-delivery*', 'co-design*', 'co-funding', 'co-validation*', 'collaborative learning', 'collective good', 'collective*', 'commons', 'communit*', 'community based innovation', 'contribute', 'cooperation', 'craftsman*', 'creat*', 'creative commons', 'custom*', 'democra*', 'democratization of making', 'design*', 'discover*', 'disposable', 'do it yourself', 'do-it-yourself', 'downloadable', 'durability', 'editable', 'empathy', 'empower*', 'enjoy*', 'entrepreneurial support', 'environment*', 'environmental cause', 'equalit*', 'ethical economy', 'explor*', 'free software*', 'free*', 'free-software*', 'fun', 'functional*', 'grassroots', 'green*', 'idea*', 'innovation*', 'invent*', 'knowledge', 'learn*', 'learning by doing', 'local', 'local culture', 'make*', 'maker movement', 'making*', 'mass*', 'multi-stakeholder*', 'nature*', 'network-based society ', 'no waste', 'non-hierarchical society', 'non-judgmental society', 'open design', 'open manufact*', 'open source ', 'open*', 'opportunit*', 'own design*', 'own idea*', 'own product*', 'p2p', 'participat*', 'peer-to-peer', 'people centric', 'personal', 'personal custom*', 'personal fabrication', 'personalization', 'planet', 'problem sol*', 'process', 'progress', 're-cycl*', 're-use', 'reciprocity', 'recycl*', 'repair*', 'repurpose*', 'reuse', 'self sufficien*', 'shar*', 'social', 'social cause*', 'social impact*', 'social relation*', 'social responsibility', 'socialization of production ', 'solution', 'solv*', 'substitut*', 'sustainab*', 'technical cause', 'technology', 'tool*', 'transparency', 'unfinished product', 'user-driven']\n",
      "____________________________________________________________\n",
      "collectiveness  ::  3\n",
      "['altruist*', 'co-delivery*', 'co-design*', 'co-funding', 'collective good', 'collective*', 'commons', 'communit*', 'community based innovation', 'contribute', 'cooperation', 'creative commons', 'democratization of making', 'equalit*', 'grassroots', 'network-based society ', 'open manufact*', 'p2p', 'participat*', 'peer-to-peer', 'social', 'social cause*', 'social impact*', 'social relation*', 'social responsibility', 'socialization of production ']\n",
      "____________________________________________________________\n",
      "sharing  ::  2\n",
      "['altruist*', 'available online', 'co-design*', 'co-funding', 'collaborative learning', 'commons', 'communit*', 'contribute', 'creative commons', 'democratization of making', 'downloadable', 'grassroots', 'open manufact*', 'p2p', 'peer-to-peer', 'reciprocity', 'shar*', 'social', 'socialization of production ']\n",
      "____________________________________________________________\n",
      "customization  ::  5\n",
      "['adopt*', 'alter*', 'artisan spirit', 'changeable', 'craftsman*', 'creat*', 'custom*', 'democratization of making', 'editable', 'make*', 'making*', 'own design*', 'own idea*', 'own product*', 'personal', 'personal custom*', 'personal fabrication', 'personalization', 'substitut*', 'tool*', 'unfinished product', 'user-driven']\n",
      "____________________________________________________________\n",
      "sustainability  ::  4\n",
      "['carbon-print', 'circular economy', 'climate*', 'co-delivery*', 'democratization of making', 'disposable', 'durability', 'environment*', 'environmental cause', 'green*', 'local', 'nature*', 'no waste', 'planet', 're-cycl*', 're-use', 'recycl*', 'repair*', 'repurpose*', 'reuse', 'self sufficien*', 'socialization of production ', 'sustainab*', 'user-driven']\n",
      "____________________________________________________________\n",
      "anti-mass  ::  7\n",
      "['capital*', 'carbon', 'carbon-print', 'closed', 'consumerism*', 'consumption', 'corporate technolog*', 'free rid*', 'industry', 'mass production', 'mass*', 'monopol*', 'passive consumption', 'patent*', 'profit', 'proprietary hardware*', 'proprietary software*', 'propriety ', 'satisficing', 'wasting*']\n",
      "____________________________________________________________\n",
      "innovation  ::  6\n",
      "['alter*', 'alternative', 'artisan spirit', 'choice*', 'co-design*', 'co-validation*', 'community based innovation', 'creat*', 'democratization of making', 'discover*', 'entrepreneurial support', 'explor*', 'functional*', 'idea*', 'innovation*', 'invent*', 'knowledge', 'make*', 'making*', 'open manufact*', 'own design*', 'own idea*', 'own product*', 'personal fabrication', 'process', 'progress', 'substitut*', 'technical cause', 'technology', 'tool*']\n",
      "____________________________________________________________\n",
      "democratization  ::  8\n",
      "['choice*', 'democra*', 'democratization of making', 'empathy', 'multi-stakeholder*', 'non-hierarchical society', 'opportunit*']\n"
     ]
    }
   ],
   "source": [
    "# The tentative list of expressions under each category:\n",
    "for category, mappings in MD.table_Mfeatures.items():\n",
    "    print \"_\"*60\n",
    "    print MD.get_category_name(category), \" :: \", category\n",
    "    print sorted(mappings['content'])"
   ]
  },
  {
   "cell_type": "markdown",
   "metadata": {},
   "source": [
    "#### Mapping expressions to categories:"
   ]
  },
  {
   "cell_type": "code",
   "execution_count": 10,
   "metadata": {
    "collapsed": false,
    "scrolled": true
   },
   "outputs": [
    {
     "name": "stdout",
     "output_type": "stream",
     "text": [
      "3dersorg 50 791 65\n",
      "{'1': 7, '0': 28, '3': 3, '2': 3, '5': 10, '4': 0, '7': 2, '6': 12, '8': 0}\n",
      "3DPrintGirl 50 701 33\n",
      "{'1': 3, '0': 18, '3': 0, '2': 1, '5': 4, '4': 0, '7': 1, '6': 6, '8': 0}\n",
      "3dsystems 50 835 72\n",
      "{'1': 1, '0': 37, '3': 0, '2': 1, '5': 11, '4': 0, '7': 7, '6': 14, '8': 1}\n",
      "shapeways 49 808 51\n",
      "{'1': 2, '0': 25, '3': 5, '2': 5, '5': 6, '4': 1, '7': 1, '6': 6, '8': 0}\n",
      "3dprintindustry 47 706 33\n",
      "{'1': 2, '0': 15, '3': 2, '2': 2, '5': 2, '4': 0, '7': 5, '6': 5, '8': 0}\n"
     ]
    }
   ],
   "source": [
    "SB = ScoreBoard()\n",
    "for user in debates.keys():\n",
    "    ntweets = debates[user]['ntweets']\n",
    "    text = debates[user]['content']\n",
    "    nmappings, nwords, counts = extract_features(text, MD)\n",
    "    features = {\"ntweets\":ntweets, \"nwords\":nwords, \"nmappings\":nmappings, \"counts\":counts}\n",
    "    SB.add_actor(user, features)\n",
    "    print user, ntweets, nwords, nmappings\n",
    "    print counts"
   ]
  },
  {
   "cell_type": "code",
   "execution_count": 11,
   "metadata": {
    "collapsed": false,
    "scrolled": true
   },
   "outputs": [
    {
     "name": "stdout",
     "output_type": "stream",
     "text": [
      "____________________\n",
      "3DPrintGirl 50 701 33\n",
      "all {'per_word': 0.047075606276747506, 'raw': 33.0, 'per_tweet': 0.66}\n",
      "1 {'per_word': 0.0042796005706134095, 'raw': 3.0, 'per_tweet': 0.06}\n",
      "0 {'per_word': 0.025677603423680456, 'raw': 18.0, 'per_tweet': 0.36}\n",
      "2 {'per_word': 0.0014265335235378032, 'raw': 1.0, 'per_tweet': 0.02}\n",
      "5 {'per_word': 0.005706134094151213, 'raw': 4.0, 'per_tweet': 0.08}\n",
      "7 {'per_word': 0.0014265335235378032, 'raw': 1.0, 'per_tweet': 0.02}\n",
      "6 {'per_word': 0.008559201141226819, 'raw': 6.0, 'per_tweet': 0.12}\n",
      "____________________\n",
      "3dersorg 50 791 65\n",
      "all {'per_word': 0.08217446270543616, 'raw': 65.0, 'per_tweet': 1.3}\n",
      "1 {'per_word': 0.008849557522123894, 'raw': 7.0, 'per_tweet': 0.14}\n",
      "0 {'per_word': 0.035398230088495575, 'raw': 28.0, 'per_tweet': 0.56}\n",
      "3 {'per_word': 0.0037926675094816687, 'raw': 3.0, 'per_tweet': 0.06}\n",
      "2 {'per_word': 0.0037926675094816687, 'raw': 3.0, 'per_tweet': 0.06}\n",
      "5 {'per_word': 0.012642225031605562, 'raw': 10.0, 'per_tweet': 0.2}\n",
      "7 {'per_word': 0.0025284450063211127, 'raw': 2.0, 'per_tweet': 0.04}\n",
      "6 {'per_word': 0.015170670037926675, 'raw': 12.0, 'per_tweet': 0.24}\n",
      "____________________\n",
      "3dsystems 50 835 72\n",
      "all {'per_word': 0.08622754491017964, 'raw': 72.0, 'per_tweet': 1.44}\n",
      "1 {'per_word': 0.0011976047904191617, 'raw': 1.0, 'per_tweet': 0.02}\n",
      "0 {'per_word': 0.04431137724550898, 'raw': 37.0, 'per_tweet': 0.74}\n",
      "2 {'per_word': 0.0011976047904191617, 'raw': 1.0, 'per_tweet': 0.02}\n",
      "5 {'per_word': 0.013173652694610778, 'raw': 11.0, 'per_tweet': 0.22}\n",
      "7 {'per_word': 0.008383233532934131, 'raw': 7.0, 'per_tweet': 0.14}\n",
      "6 {'per_word': 0.016766467065868262, 'raw': 14.0, 'per_tweet': 0.28}\n",
      "8 {'per_word': 0.0011976047904191617, 'raw': 1.0, 'per_tweet': 0.02}\n",
      "____________________\n",
      "shapeways 49 808 51\n",
      "all {'per_word': 0.06311881188118812, 'raw': 51.0, 'per_tweet': 1.0408163265306123}\n",
      "1 {'per_word': 0.0024752475247524753, 'raw': 2.0, 'per_tweet': 0.04081632653061224}\n",
      "0 {'per_word': 0.03094059405940594, 'raw': 25.0, 'per_tweet': 0.5102040816326531}\n",
      "3 {'per_word': 0.006188118811881188, 'raw': 5.0, 'per_tweet': 0.10204081632653061}\n",
      "2 {'per_word': 0.006188118811881188, 'raw': 5.0, 'per_tweet': 0.10204081632653061}\n",
      "5 {'per_word': 0.007425742574257425, 'raw': 6.0, 'per_tweet': 0.12244897959183673}\n",
      "4 {'per_word': 0.0012376237623762376, 'raw': 1.0, 'per_tweet': 0.02040816326530612}\n",
      "7 {'per_word': 0.0012376237623762376, 'raw': 1.0, 'per_tweet': 0.02040816326530612}\n",
      "6 {'per_word': 0.007425742574257425, 'raw': 6.0, 'per_tweet': 0.12244897959183673}\n",
      "____________________\n",
      "3dprintindustry 47 706 33\n",
      "all {'per_word': 0.046742209631728045, 'raw': 33.0, 'per_tweet': 0.7021276595744681}\n",
      "1 {'per_word': 0.0028328611898017, 'raw': 2.0, 'per_tweet': 0.0425531914893617}\n",
      "0 {'per_word': 0.021246458923512748, 'raw': 15.0, 'per_tweet': 0.3191489361702128}\n",
      "3 {'per_word': 0.0028328611898017, 'raw': 2.0, 'per_tweet': 0.0425531914893617}\n",
      "2 {'per_word': 0.0028328611898017, 'raw': 2.0, 'per_tweet': 0.0425531914893617}\n",
      "5 {'per_word': 0.0028328611898017, 'raw': 2.0, 'per_tweet': 0.0425531914893617}\n",
      "7 {'per_word': 0.007082152974504249, 'raw': 5.0, 'per_tweet': 0.10638297872340426}\n",
      "6 {'per_word': 0.007082152974504249, 'raw': 5.0, 'per_tweet': 0.10638297872340426}\n"
     ]
    }
   ],
   "source": [
    "for k, v in SB.table.items():\n",
    "    print \"_\" * 20\n",
    "    print k, v[\"ntweets\"], v[\"nwords\"], v[\"nmappings\"]\n",
    "    for type in v['scores'].keys():\n",
    "        print type, v['scores'][type]"
   ]
  },
  {
   "cell_type": "markdown",
   "metadata": {},
   "source": [
    "### 4. Computing the rankings"
   ]
  },
  {
   "cell_type": "code",
   "execution_count": 12,
   "metadata": {
    "collapsed": true
   },
   "outputs": [],
   "source": [
    "SB.compute_rankings('0', 'per_word')\n",
    "SB.compute_rankings('5', 'per_word')\n",
    "SB.compute_rankings('all', 'per_word')"
   ]
  },
  {
   "cell_type": "code",
   "execution_count": 13,
   "metadata": {
    "collapsed": false
   },
   "outputs": [],
   "source": [
    "def print_score_table(rankings):\n",
    "    for rtype, scores in rankings.items():\n",
    "        print \"_\"*20\n",
    "        print rtype\n",
    "        for user,score in list(scores): print user, \" : \", score"
   ]
  },
  {
   "cell_type": "code",
   "execution_count": 14,
   "metadata": {
    "collapsed": false,
    "scrolled": true
   },
   "outputs": [
    {
     "name": "stdout",
     "output_type": "stream",
     "text": [
      "____________________\n",
      "('all', 'per_word')\n",
      "3dsystems  :  0.0862275449102\n",
      "3dersorg  :  0.0821744627054\n",
      "shapeways  :  0.0631188118812\n",
      "3DPrintGirl  :  0.0470756062767\n",
      "3dprintindustry  :  0.0467422096317\n",
      "____________________\n",
      "('0', 'per_word')\n",
      "3dsystems  :  0.0443113772455\n",
      "3dersorg  :  0.0353982300885\n",
      "shapeways  :  0.0309405940594\n",
      "3DPrintGirl  :  0.0256776034237\n",
      "3dprintindustry  :  0.0212464589235\n",
      "____________________\n",
      "('5', 'per_word')\n",
      "3dsystems  :  0.0131736526946\n",
      "3dersorg  :  0.0126422250316\n",
      "shapeways  :  0.00742574257426\n",
      "3DPrintGirl  :  0.00570613409415\n",
      "3dprintindustry  :  0.0028328611898\n"
     ]
    }
   ],
   "source": [
    "print_score_table(SB.rankings)"
   ]
  },
  {
   "cell_type": "code",
   "execution_count": 15,
   "metadata": {
    "collapsed": false,
    "scrolled": true
   },
   "outputs": [
    {
     "name": "stdout",
     "output_type": "stream",
     "text": [
      "____________________\n",
      "('1', 'raw')\n",
      "3dersorg  :  7.0\n",
      "3DPrintGirl  :  3.0\n",
      "shapeways  :  2.0\n",
      "3dprintindustry  :  2.0\n",
      "3dsystems  :  1.0\n",
      "____________________\n",
      "('0', 'per_word')\n",
      "3dsystems  :  0.0443113772455\n",
      "3dersorg  :  0.0353982300885\n",
      "shapeways  :  0.0309405940594\n",
      "3DPrintGirl  :  0.0256776034237\n",
      "3dprintindustry  :  0.0212464589235\n",
      "____________________\n",
      "('all', 'per_tweet')\n",
      "3dsystems  :  1.44\n",
      "3dersorg  :  1.3\n",
      "shapeways  :  1.04081632653\n",
      "3dprintindustry  :  0.702127659574\n",
      "3DPrintGirl  :  0.66\n",
      "____________________\n",
      "('5', 'per_word')\n",
      "3dsystems  :  0.0131736526946\n",
      "3dersorg  :  0.0126422250316\n",
      "shapeways  :  0.00742574257426\n",
      "3DPrintGirl  :  0.00570613409415\n",
      "3dprintindustry  :  0.0028328611898\n",
      "____________________\n",
      "('all', 'per_word')\n",
      "3dsystems  :  0.0862275449102\n",
      "3dersorg  :  0.0821744627054\n",
      "shapeways  :  0.0631188118812\n",
      "3DPrintGirl  :  0.0470756062767\n",
      "3dprintindustry  :  0.0467422096317\n",
      "____________________\n",
      "('7', 'per_word')\n",
      "3dsystems  :  0.00838323353293\n",
      "3dprintindustry  :  0.0070821529745\n",
      "3dersorg  :  0.00252844500632\n",
      "3DPrintGirl  :  0.00142653352354\n",
      "shapeways  :  0.00123762376238\n"
     ]
    }
   ],
   "source": [
    "SB.get_rankings_one('7', 'per_word')\n",
    "SB.get_rankings_one('1', 'raw')\n",
    "SB.get_rankings_one('all', 'per_tweet')\n",
    "print_score_table(SB.rankings)"
   ]
  },
  {
   "cell_type": "markdown",
   "metadata": {},
   "source": [
    "#### Getting overall Makership score of an influencer:"
   ]
  },
  {
   "cell_type": "code",
   "execution_count": 16,
   "metadata": {
    "collapsed": false
   },
   "outputs": [
    {
     "name": "stdout",
     "output_type": "stream",
     "text": [
      "0.66\n"
     ]
    }
   ],
   "source": [
    "username = '3DPrintGirl'\n",
    "score = SB.get_score_one(username, 'all', 'per_tweet')\n",
    "print score"
   ]
  },
  {
   "cell_type": "markdown",
   "metadata": {},
   "source": [
    "#### Getting components of the overall score over mapped categories:"
   ]
  },
  {
   "cell_type": "code",
   "execution_count": 17,
   "metadata": {
    "collapsed": false
   },
   "outputs": [
    {
     "name": "stdout",
     "output_type": "stream",
     "text": [
      "{'1': 0.06, '0': 0.36, '2': 0.02, '5': 0.08, '7': 0.02, '6': 0.12}\n"
     ]
    }
   ],
   "source": [
    "cat_codes = MD.categories.values()\n",
    "sub_scores = SB.get_scores(username, cat_codes, 'per_tweet')\n",
    "print sub_scores"
   ]
  },
  {
   "cell_type": "markdown",
   "metadata": {},
   "source": [
    "### 5. Computing the makership scores of a given tweeter user and placing it on the scoreboard"
   ]
  },
  {
   "cell_type": "code",
   "execution_count": 18,
   "metadata": {
    "collapsed": true
   },
   "outputs": [],
   "source": [
    "def get_anew_user_score(username):\n",
    "    tdata = ClientTwitter.accumulate_auser_tweets(username)\n",
    "    ntweets = tdata['ntweets']\n",
    "    if not ntweets: return  \n",
    "    text = tdata['content']\n",
    "    nmappings, nwords, counts = extract_features(text, MD)\n",
    "    features = {\"ntweets\":ntweets, \"nwords\":nwords, \"nmappings\":nmappings, \"counts\":counts}\n",
    "    SB.add_actor(username, features)\n",
    "    score = SB.get_score_one(username, 'all', 'per_tweet')\n",
    "    categories = MD.categories.values()\n",
    "    sub_scores = SB.get_scores(username, categories, 'per_tweet')\n",
    "    return ntweets, sub_scores"
   ]
  },
  {
   "cell_type": "code",
   "execution_count": 19,
   "metadata": {
    "collapsed": false,
    "scrolled": true
   },
   "outputs": [
    {
     "name": "stdout",
     "output_type": "stream",
     "text": [
      "('3dsystems', 1.44)\n",
      "('3dersorg', 1.3)\n",
      "('shapeways', 1.0408163265306123)\n",
      "('3dprintindustry', 0.7021276595744681)\n",
      "('3DPrintGirl', 0.66)\n"
     ]
    }
   ],
   "source": [
    "for score in SB.get_rankings_one('all', 'per_tweet'): print score"
   ]
  },
  {
   "cell_type": "code",
   "execution_count": 20,
   "metadata": {
    "collapsed": false,
    "scrolled": true
   },
   "outputs": [
    {
     "name": "stdout",
     "output_type": "stream",
     "text": [
      "Number of tweets used:  200\n",
      "scores (theme:score)::\n",
      "1 : 0.04\n",
      "0 : 0.43\n",
      "3 : 0.065\n",
      "2 : 0.06\n",
      "5 : 0.095\n",
      "4 : 0.055\n",
      "7 : 0.035\n",
      "6 : 0.16\n",
      "8 : 0.085\n"
     ]
    }
   ],
   "source": [
    "tweetdata = get_anew_user_score('BernieSanders')\n",
    "print \"Number of tweets used: \", tweetdata[0]\n",
    "print \"scores (theme:score)::\"\n",
    "for theme,score in tweetdata[1].items():\n",
    "    print theme, \":\", score"
   ]
  },
  {
   "cell_type": "code",
   "execution_count": 21,
   "metadata": {
    "collapsed": false
   },
   "outputs": [
    {
     "name": "stdout",
     "output_type": "stream",
     "text": [
      "1.025\n"
     ]
    }
   ],
   "source": [
    "print SB.get_score_one('BernieSanders', 'all', 'per_tweet')"
   ]
  },
  {
   "cell_type": "code",
   "execution_count": 22,
   "metadata": {
    "collapsed": false,
    "scrolled": true
   },
   "outputs": [
    {
     "name": "stdout",
     "output_type": "stream",
     "text": [
      "('3dsystems', 1.44)\n",
      "('3dersorg', 1.3)\n",
      "('shapeways', 1.0408163265306123)\n",
      "('BernieSanders', 1.025)\n",
      "('3dprintindustry', 0.7021276595744681)\n",
      "('3DPrintGirl', 0.66)\n"
     ]
    }
   ],
   "source": [
    "for score in SB.get_rankings_one('all', 'per_tweet'): print score"
   ]
  }
 ],
 "metadata": {
  "kernelspec": {
   "display_name": "Python 2",
   "language": "python",
   "name": "python2"
  },
  "language_info": {
   "codemirror_mode": {
    "name": "ipython",
    "version": 2
   },
   "file_extension": ".py",
   "mimetype": "text/x-python",
   "name": "python",
   "nbconvert_exporter": "python",
   "pygments_lexer": "ipython2",
   "version": "2.7.11"
  }
 },
 "nbformat": 4,
 "nbformat_minor": 0
}
