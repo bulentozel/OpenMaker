{
 "cells": [
  {
   "cell_type": "markdown",
   "metadata": {},
   "source": [
    "# Discovery and Representation of Open Making Related Terms\n",
    "\n",
    "Bulent Ozel, UZH\n",
    "\n",
    "```bulent.ozel@gmail.com```"
   ]
  },
  {
   "cell_type": "markdown",
   "metadata": {},
   "source": [
    "## 1. Objective\n",
    "\n",
    "This notebook sketches the initial exercise on identifiying a weighted set of key terms using a specific corpus.\n",
    "\n",
    "The method outlined here aims to set-up a base line for future improvements. See the relevant sections below.\n",
    " * It uses a statistical approach combined with standardized procedures that are widely applied in standard NLP workflows.\n",
    " * In this base line, it aims to present a work flow that can be ablied to\n",
    "     * different languages\n",
    "     * differrent problem domains\n",
    " * It relies on a domain specific corpus as a foreground corpus and a reference corpus as the background corpus\n",
    " * In this work flow specific corpus is formed via supervised crawling on the wikipedia\n",
    " * In the exercises below the NLTK's Brown corpus is used as the reference background corpus. However, in the next work round, we aim to use full Wikipedia corpus under the same language of the specific corpus or a reprsentative random sample of it. \n",
    " * The normalized comparison of candidate keywords within specific vs reference corpus is used as a proxy indication of the relevance of the candidate keyword for the given topic that is reprseneted by the collection of articles under the specific corpus.\n",
    "\n",
    "## 2. Overall Work Flow\n",
    "In short, the workflow presented on this notebook is the second stage on a workflow objective of which is being able to measure relevance of a given external input to a specific theme, issue or topic. The steps of the work flow is as follows.\n",
    "\n",
    "1. Forming a specific corpus where the corpus consists of set of documents around a topic. The corpus could be\n",
    "    - a set of blog articles around an issue let say green finance\n",
    "    - or a set of Wikipedia articles around the same subject\n",
    "    - or collection of news articles around the green finance\n",
    "    - or collection of tweets around the same issue.\n",
    "    \n",
    "    At the moment we have another module that given a set of seed Wikipedia articles around an issue the crawler scrapes textual data from articles. For the details of the module please [see the scraper module.](https://github.com/bulentozel/OpenMaker/tree/master/Scraping). The output of that module is a set of input texts stored in a collection in JSON format. \n",
    "\n",
    "2. Given an input set of texts on a theme a concept or a topic identify set of terms that more likely or less likely can occur within a discussion on the topic. This module hereby presents one of the simple methods for this purpose.\n",
    "\n",
    "3. Given a list of weighted terms which are more likely to occur or reprsent a theme, concept or topic and input query text measure the relevance of the input text to the topic/theme/concept. [The notebook in this link](https://github.com/bulentozel/OpenMaker/blob/master/Semantics/Score%20Text.ipynb) demonstrates one way doing such scoring of a given text against the curated set of terms of this particular module.\n",
    "\n",
    "\n",
    "\n",
    "\n",
    "## 3. Work-flow Process in this Particular Module\n",
    "1. Loading the reference corpus and a topic specific corpus\n",
    "2. Tokenizing and cleaning the reference corpus and the specific corpus\n",
    "3. Calculating term frequency counts of the reference corpus and the specific corpus\n",
    "4. Identifying common terms in both corpuses\n",
    "5. Identifying distinctive terms that occur in the specific corpus but not in reference corpus, if any\n",
    "6. Reducing the terms in the dinstinctive set by an iterative manual inspection process as well as by  using a curated list of distinctive terms on the topic.\n",
    "7. Computing likelihood ratio (empirical probabilities) of the terms that are observed in the specific topic\n",
    "8. Tabulating identified list of terms, their raw frequencies and weights.\n",
    "\n",
    "## 4. Suggested Future Work\n",
    "\n",
    "* Using language specicif term frequency counts of Wikipedia itself for comparisons. In NLP terminology, the *foreground* corpus around a topic needs to be compared and contrasted to a *background* corpus.\n",
    "\n",
    "* Improving the semantic crawler of the previous stage to be able to increase quality of the specific corpuses\n",
    "\n",
    "* Adding new scoring types that measures relevance of a given term to a given topic.\n",
    "\n",
    "### Methodological Improvements\n",
    "* Instead of tokenizing all terms, examine possibilities of key-phrase extrcation combining with *tf-idf* and \n",
    "    - experiment with extracting noun phrases and words, for this use NLTK's regular expression module for POS (part of speeach) analysis.\n",
    "    - extract n-grams where n=1,2,3\n",
    "\n",
    "## 5. Definitions and Assumptions\n",
    "\n",
    "### Assumptions\n",
    "* In the current state of the task it is assumed that a document's terms tend to be relatively frequent within the document as compared to an external reference corpus. However, it should be noted this assumption is contested in the field. See the paper by Chuang et el.\n",
    "\n",
    "* Condidering the fact that the crawler is used to aggregate semantically related set of documents into a single document, *tf x idf* is equivalent to *tf*. As can be seen below, we use a normalized version of *tf*: *ntS / NS*.\n",
    "\n",
    "* Fewer number of but relatively more relevant training (input corpus) is prefered in order to reduce term extraction problems due to length of documents. However, it should be noted that the crawling depth of an identiefied wiki article from stage 1 of this document can be used as an additional weight on relevance/reprsesntation of keywords.\n",
    "\n",
    "* We have limited ourselves to terms instead of n-grams and phrases or use of POS to be able to develop a base model that can work on different languages.\n",
    " \n",
    " \n",
    "### Term\n",
    "Given for instance a set of texts around open source software movement a term that is identified can be a word such as *openness*, a person such as *Stallman* a license type such as *GNU*, an acronym for an organization such as *FSF* the Free Software Foundation, or a technology such as *Emacs*.\n",
    "\n",
    "### Likelihood ratio\n",
    "It is a simple measure computed comparing frequency count of a term in a specific corpus versus its frequency count in the reference reference corpus. Here assumption is that the reference corpus is a large enough sample of the language at observing the occurance of a term. Then having a higher/lower observation frequency of a term in the specific corpus is a proxy indicator for the term choice while having a debate on the topic.\n",
    "\n",
    "The likelihood ratio for a term P_t is calculated as:\n",
    "\n",
    "P_t = log ( (ntS/NS) / (ntR/NR) )\n",
    "\n",
    "where\n",
    "\n",
    "- *ntS* is the raw frequency count of the term in the entire specific corpus\n",
    "- *ntR* is the raw frequenccy count of the term in the reference corpus\n",
    "- *NS* is the total number of terms in the specific corpus\n",
    "- *NR* is the total number of terms in the reference corpus\n",
    "\n",
    "It should be noted that frequency counts are calculated after having applied the same tokenization and post processing such as excluding stop-words, pancuations, rare terms, etc both on the reference corpus and the specific corpus.\n",
    "\n",
    "## 6. State of the art \n",
    "\n",
    "* Survey Paper: Kazi Saidul Hasan and Vincent Ng, 2014. “Automatic Keyphrase Extraction: A Survey of the State of the Art” Proceedings of the 52nd Annual Meeting of the Association for Computational Linguistics, pages 1262–1273.\n",
    "\n",
    "* Survey Paper: Sifatullah Siddiqi and Aditi Sharan. Article: Keyword and Keyphrase Extraction Techniques: A Literature Review. International Journal of Computer Applications 109(2):18-23, January 2015\n",
    "\n",
    "* Survey Paper: Z. A. Merrouni, B. Frikh, and B. Ouhbi. Automatic keyphrase extraction: An overview of the state of the art. In 2016 4th IEEE\n",
    "Colloquium on Information Science and Technology\n",
    "(CiSt), pages 306–313, Oct 2016\n",
    "\n",
    "* PageRank - Topical: Zhiyuan Liu, Wenyi Huang, Yabin Zheng and Maosong Sun, 2010. “Automatic Keyphrase Extraction via Topic Decomposition”. Proceeding EMNLP '10 Proceedings of the 2010 Conference on Empirical Methods in Natural Language Processing Pages 366-376 \n",
    "\n",
    "* RAKE (Rapid Automatic Keyword Extraction ): Stuart Rose, Dave Engel, Nick Cramer, and Wendy Cowley. Automatic\n",
    "keyword extraction from individual documents. Text Mining, pages 1–20, 2010.\n",
    "\n",
    "* TextRank - Graph Based : Rada Mihalcea and Paul Tarau. Textrank: Bringing order into texts.\n",
    "Association for Computational Linguistics, 2004.\n",
    "\n",
    "* STOPWORDS: S. Popova, L. Kovriguina, D. Mouromtsev, and I. Khodyrev. Stopwords\n",
    "in keyphrase extraction problem. In 14th Conference\n",
    "\n",
    "* Corpus Similarity - Keyword frequency based: Adam Kilgarriff. Using word frequency lists to measure corpus homogeneity and similarity between corpora. In Proceedings of ACLSIGDAT Workshop on very large corpora, pages 231–245, 1997.\n",
    "\n",
    "* Recommendation - Keyphrase Based: F. Ferrara, N. Pudota and C. Tasso. A keyphrase-based paper recommender system. In: Digital Libraries and Archives. Springer Berlin Heidelberg, 2011. p. 14-25.\n",
    "\n",
    "* Jason Chuang, Christopher D. Manning, Jeffrey Heer, 2012. \"Without the Clutter of Unimportant Words\": Descriptive Keyphrases for Text Visualization\" ACM Trans. on Computer-Human Interaction, 19(3), 1–29.\n",
    "\n",
    "## Appendix\n",
    "\n",
    "### Scoring\n",
    "\n",
    "Using the outcome of this technique to score arbitrary input texts against a single issue such as financial sustainability or against a set of issues such as the 10 basic human values requires a set of normalization of the raw scores and their rescaling/transformation.\n",
    "\n",
    "The factors that need to be considered are:\n",
    "\n",
    "- **Differing document lengths:** The likelihood of repetion of a key phrase increases as the size of the input text gets larger. In more concrete terms, when a scoring that simply sums up detection of weighted keyphrases or words within a given input text would be very sensitive to the document length. For isntance, the an executive summary of an article would very likely get quite lower score than the full article on any issue.\n",
    "\n",
    "    *Among other methods, this can simply be resolved by computing per word scores, where the word set to be conidered is the tokenized and cleaned set of words that represent the input text.*\n",
    "\n",
    "\n",
    "- **Topical relevance:** This factor would be important when the subject matter of the inputs texts vary among each other. In other words, this factor would matter to a very high significance, let's say when one wants to compare perceptions of indivuduals on the role of traditions in the personal lives and when this question is not asked them in a uniform manner that under the same social, cultural, environmental and physical conditions.\n",
    "    \n",
    "    Let’s assume that issue under investigation is again the perception and role of traditions in personal lives. It is possible that the same blogger with a strong opinion on traditions (i) may not touch the issue while talking on data science, (ii) he would slightly touch the issue while he talks about her preferences in mobile devices (iii) He dives into subject using all keywords and phrases when he talks about impact of traditions on social order.In brief, it is necessary to offset the variability of the topical relavance of an input text to the issue under investigation when arbitrary text samples are used for scoring.\n",
    "   \n",
    "    *An offsetting scheme can be devised when opinion or perception of an actor is to be measured with respect to more than one factor that define the issue under investigation. For instance, when we want to measure the position of a political leader on individual liberties vs social security or when we want to profile discourse of the political leader as of a ten basic human values we could employ some simple statistical methods in order to offset the topical relevance of the discourses or the speeches of the political figure to what we would like to measure.*\n",
    "    \n",
    "    *A simple method could be rescaling the scores on each sub factor such as the scores of liberty and security that are measured from the same speech into a range of -1 to 1. This can simply be done by taking the mean of the two and then deducting the mean from each score and scaling them into a scala of -1 to 1. This way it may be possible to use multiple speeches of the same political figure on different topics to evalaute his or her postion on liberty vs security matter.*\n",
    "   \n",
    "   In statistical terms this problem corresponds to adjusting or normalizing ratings or scores measured on different scales to a notionally common scale. Given the fact that in most cases a normal distribution for underlying factors may not be assumed the quantile-normalization technique is suggested. The quantile normalization sorts and ranks the variables with a non-negative amplitudes. Then these rankings can be scaled to for instance to a 0-1 interval. \n",
    "\n",
    "\n",
    "- **Level of subjectivity**.  This is variability in terms of relevant importance attributed to each issue given a set of issues. For instance, according to a study (Schwartz 2012), it is seen that almost all cultures around the world attach a higher importance to ‘universalism’ human value than the ’power’ basic human value. So when the objective of the scoring is not simply to rank of importance attached to each of them, then a comparative importance with respect to overall observations needs to tackled.\n",
    "\n",
    "    *Observed variances in each query texts can be considered. That is, a simple statistical methods can be used for instance to be able to compare two or more query texts with respect to each other. A suggested method would be (1) estimate coefficient of variation for each input text using per-word scores (2) the rescale quantile-normalized scores that is suggested above*\n",
    "\n",
    "#### Scoring and value system profiling\n",
    "\n",
    "When one attempts to use scores, for instance, around the basic ten human values and one wants to construct the value system of the person, then both ranking of the scores as well as the relevant importance of each score from a number of texts from the same person should be taken into consideration.\n",
    "\n"
   ]
  },
  {
   "cell_type": "markdown",
   "metadata": {},
   "source": [
    "## External python modules\n",
    "The notebook below should work with both Pyhton 2 and Python 3 kernels."
   ]
  },
  {
   "cell_type": "code",
   "execution_count": null,
   "metadata": {
    "collapsed": true
   },
   "outputs": [],
   "source": [
    "import nltk\n",
    "from nltk import FreqDist\n",
    "from nltk.stem.porter import PorterStemmer\n",
    "from numpy import log, mean\n",
    "import json, csv, re, copy\n",
    "import pprint as pp\n",
    "\n",
    "import pandas as pd"
   ]
  },
  {
   "cell_type": "markdown",
   "metadata": {},
   "source": [
    "## Implemented: packages, modules, objects and functions\n",
    "*Still under construction!*"
   ]
  },
  {
   "cell_type": "code",
   "execution_count": null,
   "metadata": {
    "collapsed": true
   },
   "outputs": [],
   "source": [
    "from utils import tokenizer"
   ]
  },
  {
   "cell_type": "code",
   "execution_count": null,
   "metadata": {
    "collapsed": true
   },
   "outputs": [],
   "source": [
    "class Corpus(object):\n",
    "    \"\"\"A generic class for foreground or background corpuses created by the package.\n",
    "\n",
    "    Attributes:\n",
    "        texts_raw (:obj:`json`): A JSON collection of raw texts of the corpus.\n",
    "        \n",
    "        texts_clean (:obj:`json`): A JSON collection of cleaned/processed\n",
    "            texts of the corpus.\n",
    "        \n",
    "        tf_idf (:obj:`json`): Tf-Idf analyses of the corpus (to be implemented).\n",
    "        \n",
    "    \"\"\"\n",
    "\n",
    "    def __init__(self, tf_dist):\n",
    "        \"\"\"The class constructor.\n",
    "\n",
    "        Args:\n",
    "            tf_dist (:obj:`nltk.FreqDist`): An NLTK container for tokenized and analyzed\n",
    "            terms in the corpus.\n",
    "\n",
    "        \"\"\"\n",
    "        self.tf_dist = tf_dist\n",
    "        \n",
    "    def get_top_frequents(self, top=42):\n",
    "        \"\"\"The method identifies and returns top frequent terms.\n",
    "        \n",
    "        Args:\n",
    "            top (int): Size of the short list (default 42).\n",
    "            \n",
    "        Returns:\n",
    "            (:obj:`list` of :obj:`tuple` of :obj:`str` and :obj:`int`): Returns the frequency dist\n",
    "                for top terms as list of tuples of term and frequency pairs.\n",
    "\n",
    "        \"\"\"\n",
    "        return self.tf_dist.most_common(top)\n",
    "    \n",
    "    def get_least_frequents(self, bottom=42):\n",
    "        \"\"\"The method identifies and returns least frequent terms.\n",
    "        \n",
    "        Args:\n",
    "            bottom (int): Size of the short list (default 42).\n",
    "            \n",
    "        Returns:\n",
    "            (:obj:`list` of :obj:`tuple` of :obj:`str` and :obj:`int`): Returns the frequency dist\n",
    "                for the least frequent terms as list of tuples of term and frequency pairs.\n",
    "\n",
    "        \"\"\"\n",
    "        _n = self.get_count_uniques()\n",
    "        slice_from = _n - bottom if _n > bottom else 0\n",
    "        return self.tf_dist.most_common(_n)[slice_from:]\n",
    "    \n",
    "    def get_count_uniques(self):\n",
    "        \"\"\"The method identifies and returns top frequent terms.\n",
    "            \n",
    "        Returns:\n",
    "            (int): Returns an integer.\n",
    "\n",
    "        \"\"\"\n",
    "        #return len(self.tf_dist.keys())\n",
    "        return self.tf_dist.B()\n",
    "\n",
    "    def get_size(self):\n",
    "        \"\"\"The returns the size of the corpus in terms of number of terms it has.\n",
    "            \n",
    "        Returns:\n",
    "            (int): Returns an integer. It is summation of raw frequency counts.\n",
    "\n",
    "        \"\"\"\n",
    "        #return sum(self.tf_dist.values())\n",
    "        return self.tf_dist.N()\n",
    "    \n",
    "    def union(self, other,\n",
    "              as_corpus = False,\n",
    "              stats = False):\n",
    "        \"\"\"The method identifies and returns the union of two corpora.\n",
    "        \n",
    "        Args:\n",
    "            other (:obj:`Corpus`): An instance of this Class object.\n",
    "            as_corpus (bool): When True it returns a new Corpus (default False).\n",
    "            stats (bool): When True and as_corpus is false returns the frequency \n",
    "                count of the union.\n",
    "            \n",
    "        Returns:\n",
    "            (:obj:`list` of :obj:`str`): If as_corpus is False and stats is False \n",
    "                it returns the list of union of terms in both cases.\n",
    "            (:obj:`list` of :obj:`tuple` of :obj:`str` and :obj:`int`): Returns the frequency dist\n",
    "                for the union terms, ff as_corpus is False and stats is True. \n",
    "            (:obj:`Corpus`): In all other cases it returns a nrew Corpus class for the intersection.\n",
    "                Frequencies are the minimum of the two occurances.\n",
    "        \n",
    "        Examples:\n",
    "            >>> Corpus(FreqDist('abbbc')).union(Corpus(FreqDist('bccd')), stats = True)\n",
    "            [('a', 1), ('b', 3), ('c', 2), ('d', 1)]\n",
    "\n",
    "        \"\"\"\n",
    "        Union = self.tf_dist | other.tf_dist\n",
    "        if not as_corpus and not stats: return list(Union.keys())\n",
    "        if not as_corpus and stats: return list(Union.items())\n",
    "        return Corpus(Union)\n",
    "    \n",
    "    def intersection(self, other,\n",
    "                     as_corpus = False,\n",
    "                     stats = False):\n",
    "        \"\"\"The method identifies and returns the intersection of two corpora.\n",
    "        \n",
    "        Args:\n",
    "            other (:obj:`Corpus`): An instance of this Class object.\n",
    "            as_corpus (bool): When True it returns a new Corpus (default False).\n",
    "            stats (bool): When True and as_corpus is false returns the frequency \n",
    "                count of the intersections.\n",
    "            \n",
    "        Returns:\n",
    "            (:obj:`list` of :obj:`str`): If as_corpus is False and stats is False \n",
    "                it returns the list of joint terms.\n",
    "            (:obj:`list` of :obj:`tuple` of :obj:`str` and :obj:`int`): Returns the frequency dist\n",
    "                for the joint terms, if as_corpus is False and stats is True. \n",
    "            (:obj:`Corpus`): In all other cases it returns a nrew Corpus class for the intersection.\n",
    "                Frequencies are the minimum of the two occurances.\n",
    "\n",
    "        \"\"\"\n",
    "        Common = self.tf_dist & other.tf_dist\n",
    "        if not as_corpus and not stats: return list(Common.keys())\n",
    "        if not as_corpus and stats: return list(Common.items())\n",
    "        return Corpus(Common)\n",
    "    \n",
    "    def difference(self, other,\n",
    "              as_corpus = False,\n",
    "              stats = False):\n",
    "        \"\"\"The method identifies and returns the difference of the self from the other.\n",
    "        \n",
    "        Note:\n",
    "            Implementation needs style and refactoring.\n",
    "            \n",
    "        Args:\n",
    "            other (:obj:`Corpus`): An instance of this Corpus Class object.\n",
    "            as_corpus (bool): When True it returns a new Corpus (default False).\n",
    "            stats (bool): When True and as_corpus is false returns the frequency \n",
    "                count of the difference set.\n",
    "            \n",
    "        Returns:\n",
    "            \n",
    "        \"\"\"\n",
    "        joint = set(self.intersection(other))\n",
    "        difference = set(self.tf_dist.keys()).difference(joint)\n",
    "        return {k:v for k, v in self.tf_dist.items() if k in difference}\n",
    "    \n",
    "    def plot(self, top, cumulative = False):\n",
    "        \"\"\"Plotting.\n",
    "        \n",
    "        Note:\n",
    "            Implementation needs style and refactoring.\n",
    "            \n",
    "        Returns:\n",
    "            \n",
    "        \"\"\"\n",
    "        self.tf_dist.plot(top, cumulative = cumulative)\n",
    "        return True\n",
    "    \n",
    "    def tabulate(self, top):\n",
    "        \"\"\"Tabulating.\n",
    "        \n",
    "        Note:\n",
    "            Implementation needs style and refactoring.\n",
    "            \n",
    "        Returns:\n",
    "            \n",
    "        \"\"\"\n",
    "        self.tf_dist.tabulate(top) \n",
    "        return True\n",
    "    \n",
    "    def list_terms(self):\n",
    "        \"\"\".\n",
    "        \n",
    "        Note:\n",
    "            Implementation needs style and refactoring.\n",
    "            \n",
    "        Returns:\n",
    "            \n",
    "        \"\"\"\n",
    "        return list(sorted(self.tf_dist.keys()))\n",
    "        \n",
    "        \n",
    "        "
   ]
  },
  {
   "cell_type": "code",
   "execution_count": null,
   "metadata": {
    "collapsed": true
   },
   "outputs": [],
   "source": [
    "def format_output_fname(current_theme):\n",
    "    output_fname = \"_\".join([word.capitalize() for word in current_theme.split(\" \")])\n",
    "    return output_fname"
   ]
  },
  {
   "cell_type": "code",
   "execution_count": null,
   "metadata": {
    "collapsed": true
   },
   "outputs": [],
   "source": [
    "def display_documents_list(Corpus, tid=None):\n",
    "    \"\"\"List the articles meta data and crawling information on them.\n",
    "    \n",
    "    \n",
    "    \"\"\"\n",
    "    print('document.id :: theme.id :: theme :: depth :: url')\n",
    "    \n",
    "    articles = Corpus\n",
    "    if tid:\n",
    "        articles = [article for article in articles if article['theme.id'] == tid]   \n",
    "    \n",
    "    articles = sorted(articles, key=lambda x: (x['theme.id'], x['depth'])) \n",
    "    for article in articles:\n",
    "        print(article['document.id'],article['theme.id'], article['theme'], article['depth'], article['url'])\n",
    "        \n",
    "def list_themes(Corpus):\n",
    "    \"\"\" \n",
    "        Note: Document counts added.\n",
    "    \"\"\"\n",
    "    themes = dict()\n",
    "    count = 0\n",
    "    for article in Corpus:\n",
    "        theme_id = article['theme.id']\n",
    "        if theme_id not in themes.keys():\n",
    "            themes[theme_id] = (article['theme'], 0)\n",
    "        else:\n",
    "            t,c = themes[theme_id]\n",
    "            c += 1\n",
    "            themes[theme_id] = (t, c)\n",
    "            \n",
    "    themes = [{'id':k, 'name':v[0], 'count':v[1]} for k,v in themes.items()]\n",
    "    return themes\n",
    "\n",
    "def get_theme_title(Corpus, theme_id):\n",
    "    title = None\n",
    "    for article in Corpus:\n",
    "        if article['theme.id'] == theme_id:\n",
    "            title = article['theme']\n",
    "            break\n",
    "    return title\n",
    "\n",
    "def get_theme_id(Corpus, theme_name):\n",
    "    theme_id = None\n",
    "    for article in Corpus:\n",
    "        if article['theme'] == theme_name:\n",
    "            theme_id = article['theme.id']\n",
    "            break\n",
    "    return int(theme_id)\n",
    "\n",
    "def get_document_fields(Corpus):\n",
    "    fields = list()\n",
    "    assert isinstance(Corpus, list), '{} must have been a non-empty list of dict objects'\n",
    "    \n",
    "    if len(Corpus):\n",
    "        fields = Corpus[0].keys()\n",
    "        \n",
    "    return fields\n",
    "\n",
    "def filter_corpus(Corpus, themes, docs_to_drop = [], func = None):\n",
    "    themes = list(map(lambda x: int(x), themes))\n",
    "    docs = [page for page in Corpus if int(page['theme.id']) in themes]\n",
    "    docs = [p for p in docs if p['document.id'] not in docs_to_drop]\n",
    "    if  func:\n",
    "        docs = [p for p in docs if func(p)]\n",
    "    return docs\n",
    "\n",
    "def merge_documents(Corpus, by_theme_id = None, by_doc_ids = [], marker = \"\\n\"):\n",
    "    docs = Corpus\n",
    "    if by_theme_id:\n",
    "        docs = [d for d in docs if d['theme.id'] == by_theme_id] \n",
    "    if by_doc_ids:\n",
    "        docs = [d for d in docs if d['document.id'] in by_doc_ids]\n",
    "    texts = [d['text'] for d in docs]\n",
    "    text = marker.join(texts)\n",
    "    return(text)"
   ]
  },
  {
   "cell_type": "code",
   "execution_count": null,
   "metadata": {
    "collapsed": true
   },
   "outputs": [],
   "source": [
    "class WikiCorpus(object):\n",
    "    \"\"\"A generic class for foreground or background corpuses created by the package.\n",
    "\n",
    "    Attributes:\n",
    "        collection_json (str): This is a filename to the scraped data.\n",
    "    \n",
    "    \"\"\"\n",
    "    \n",
    "    collection_json = \"data/corpuses/achievement.json\"\n",
    "\n",
    "    def __init__(self, collection=None):\n",
    "        \"\"\"The class constructor.\n",
    "\n",
    "        Args:\n",
    "            collection (str, optional): A filename to a previously scraped data.\n",
    "\n",
    "        \"\"\"\n",
    "        if collection: self.collection_json = collection\n",
    "        self.load_corpus()\n",
    "        \n",
    "    def load_corpus():\n",
    "        pass    "
   ]
  },
  {
   "cell_type": "code",
   "execution_count": null,
   "metadata": {
    "collapsed": true
   },
   "outputs": [],
   "source": [
    "class TextCleaner(object):\n",
    "    \"\"\"A generic class for foreground or background corpuses created by the package.\n",
    "\n",
    "    Attributes:\n",
    "        collection_json (str): This is a filename to the scraped data.\n",
    "    \n",
    "    \"\"\"\n",
    "    \n",
    "    try:\n",
    "        from utils import tokenizer\n",
    "    except:\n",
    "        raise  ImportError(\"It wasn't possible to import 'utils.tokenizer.\")\n",
    "    \n",
    "\n",
    "    def __init__(self, stopwords = None):\n",
    "        \"\"\"The class constructor.\n",
    "\n",
    "        Args:\n",
    "            stopwords (:obj:`list` of :obj:`str`, optional): list of stopwords.\n",
    "\n",
    "        \"\"\"\n",
    "        self.stopwords = stopwords\n",
    "        \n",
    "    def load_stopwords(self, spointer):\n",
    "        \"\"\"The method reloads a new stopwords list.\n",
    "\n",
    "        Note:\n",
    "            Internal stopword is overwritten.\n",
    "            \n",
    "        Args:\n",
    "            spointer (:obj:`list` of :obj:`str`or :obj:`str`): Either file path string or\n",
    "                a list of stopwords.\n",
    "\n",
    "        Returns:\n",
    "            bool: True if successful, False otherwise.\n",
    "\n",
    "        Raises:\n",
    "            FileNotFoundError: Raised if a given file is not accessable.\n",
    "\n",
    "        \"\"\"\n",
    "        if isinstance(spointer, (list, set)):\n",
    "            self.stopwords = set(spointer)\n",
    "            return True\n",
    "        \n",
    "        with open(spointer, \"r\") as f:\n",
    "            self.stopwords = set(f.read().strip().split(\"\\n\"))\n",
    "            \n",
    "        return True\n",
    "    \n",
    "    def extend_stopwords(self, spointer):\n",
    "        \"\"\"The method extends a new stopwords list.\n",
    "            \n",
    "        Args:\n",
    "            spointer (:obj:`list` of :obj:`str`, :obj:`str`): Either file path string or\n",
    "                a list of stopwords.\n",
    "\n",
    "        Returns:\n",
    "            bool: True if successful, False otherwise.\n",
    "\n",
    "        Raises:\n",
    "            FileNotFoundError: Raised if a given file is not accessable.\n",
    "\n",
    "        \"\"\"\n",
    "        if isinstance(spointer, (list, set)):\n",
    "            sws = set(spointer)\n",
    "        else:\n",
    "            with open(spointer, \"r\") as f:\n",
    "                newwords = set(f.read().strip().split(\"\\n\"))\n",
    "                sws = set(newwords)\n",
    "        if not sws: return False\n",
    "        self.stopwords = self.stopwords.union(sws) if self.stopwords else sws\n",
    "        return True\n",
    "    \n",
    "    @staticmethod\n",
    "    def freq_dist(words):\n",
    "        \"\"\"The static method computes frequency distribution of a word list.\n",
    "            \n",
    "        Args:\n",
    "            words (:obj:`list` of :obj:`str`, :obj:`str`): list of words.\n",
    "\n",
    "        Returns:\n",
    "            (:obj:`nltk.FreqDist`): Returns frequency dist.\n",
    "\n",
    "        \"\"\"\n",
    "        return FreqDist([w.lower() for w in words])\n",
    "    \n",
    "    def clean(self, words, display_top = 10, logging = True, exceptions = []):\n",
    "        \"\"\"Removes panctuations and stopwords from a corpus.\n",
    "            \n",
    "        Args:\n",
    "            words (:obj:`list` of :obj:`str`): The input corpus as list of words.\n",
    "\n",
    "        Returns:\n",
    "            (:obj:`nltk.FreqDist`): Returns the trimmed corpus as the NLTK obj.\n",
    "            exceptions (:obj:`list` of :obj:`str`): The exception list.\n",
    "\n",
    "        \"\"\"\n",
    "        def report(headline, fd):\n",
    "            \"\"\"Local method for logging the updates.\n",
    "            \n",
    "            Args:\n",
    "                headline (:obj:`str`): The state description\n",
    "\n",
    "            Returns:\n",
    "                bool: True.\n",
    "            \"\"\"\n",
    "            print(headline)\n",
    "            print('Total term counts: {}'.format(sum(fd.values())))\n",
    "            pp.pprint(fd.most_common(display_top))\n",
    "            return True\n",
    "            \n",
    "        FD = TextCleaner.freq_dist(words)\n",
    "        headline = \"Initial state:\"\n",
    "        if logging: report(headline, FD)\n",
    "        \n",
    "        FD = self.remove_panctuation(FD, exceptions = exceptions)\n",
    "        headline = \"Removing panctuation only terms:\"\n",
    "        if logging: report(headline, FD)\n",
    "\n",
    "        FD = self.remove_stopwords(FD, exceptions = exceptions)\n",
    "        headline = \"Removing stopwords:\"\n",
    "        if logging: report(headline, FD)\n",
    "        return FD\n",
    "        \n",
    "    \n",
    "    def remove_panctuation(self, freq_dist, exceptions = []):\n",
    "        \"\"\"The static method removes punctuation only terms.\n",
    "            \n",
    "        Args:\n",
    "            freq_dist (:obj:`nltk.FreqDist`): list of words and more.\n",
    "            exceptions (:obj:`list` of :obj:`str`): The exception list.\n",
    "\n",
    "        Returns:\n",
    "            (:obj:`nltk.FreqDist`): Returns frequency dist.\n",
    "\n",
    "        \"\"\"\n",
    "        for punctuation in tokenizer.CHARACTERS_TO_SPLIT:\n",
    "            if punctuation in exceptions: continue\n",
    "            dp = punctuation * 2\n",
    "            tp = dp + punctuation\n",
    "            if punctuation in freq_dist.keys():\n",
    "                del freq_dist[punctuation]\n",
    "            if dp in freq_dist.keys():\n",
    "                del freq_dist[dp]\n",
    "            if tp in freq_dist.keys():\n",
    "                del freq_dist[tp]\n",
    "        return freq_dist\n",
    "    \n",
    "    def remove_stopwords(self, freq_dist, exceptions = []):\n",
    "        \"\"\"The static method removes stopwords.\n",
    "            \n",
    "        Args:\n",
    "            freq_dist (:obj:`nltk.FreqDist`): list of words and more.\n",
    "            exceptions (:obj:`list` of :obj:`str`): The exception list.\n",
    "\n",
    "        Returns:\n",
    "            (:obj:`nltk.FreqDist`): Returns frequency dist.\n",
    "\n",
    "        \"\"\"\n",
    "        for term in self.stopwords:\n",
    "            if term in exceptions: continue\n",
    "            if term in freq_dist.keys():\n",
    "                del freq_dist[term]\n",
    "        return freq_dist\n",
    "    \n",
    "    def remove_numerals(self, freq_dist, remove_any = False, exceptions = []):\n",
    "        \"\"\"The method removes terms with numeral literals.\n",
    "            \n",
    "        Note:\n",
    "            When remove_any is selected, literals such as 3D would vanish.\n",
    "            \n",
    "        Args:\n",
    "            freq_dist (:obj:`nltk.FreqDist`): list of words and more.\n",
    "            remove_any (bool): If True mumeral and literal mixed terms are removed.\n",
    "            exceptions (:obj:`list` of :obj:`str`): The exception list.\n",
    "\n",
    "        Returns:\n",
    "            (:obj:`nltk.FreqDist`): Returns frequency dist.\n",
    "\n",
    "        \"\"\"\n",
    "        freq_distN = copy.deepcopy(freq_dist)\n",
    "        if remove_any:\n",
    "            pattern_numbers = re.compile('[0-9]')\n",
    "            def has_numbers(x):\n",
    "                return(pattern_numbers.search(x) is not None)\n",
    "            for term in freq_dist.keys():\n",
    "                if term in exceptions: continue\n",
    "                if has_numbers(term):\n",
    "                    print(term)\n",
    "                    del freq_distN[term]\n",
    "        else:\n",
    "            pattern_letters = re.compile('[a-z]')\n",
    "            def has_letters(x):\n",
    "                return(pattern_letters.search(x) is not None)\n",
    "            for term in freq_dist.keys():\n",
    "                if term in exceptions: continue\n",
    "                if not has_letters(term):\n",
    "                    print(term)\n",
    "                    del freq_distN[term]\n",
    "        \n",
    "        return freq_distN\n",
    "                \n",
    "    def remove_short_terms(self, freq_dist, threshold = 1, exceptions = []):\n",
    "        \"\"\"The method removes terms that are below a certain length.\n",
    "        \n",
    "        Args:\n",
    "            freq_dist (:obj:`nltk.FreqDist`): list of words and more.\n",
    "            threshold (int): The charcter length of a term (default 1).\n",
    "            exceptions (:obj:`list` of :obj:`str`): The exception list.\n",
    "\n",
    "        Returns:\n",
    "            (:obj:`nltk.FreqDist`): Returns frequency dist.\n",
    "\n",
    "        \"\"\"\n",
    "        freq_distN = copy.deepcopy(freq_dist)\n",
    "        for term in freq_dist.keys():\n",
    "            if term in exceptions: continue\n",
    "            if len(term) <= threshold:\n",
    "                del freq_distN[term]\n",
    "        return freq_distN\n",
    "\n",
    "    def remove_rare_terms(self, freq_dist, below = 3, exceptions = []):\n",
    "        \"\"\"The method removes terms that have rare occurances.\n",
    "        \n",
    "        Note:\n",
    "            Such removal may help reduce errenous and random terms.\n",
    "            \n",
    "        Args:\n",
    "            freq_dist (:obj:`nltk.FreqDist`): list of words and more.\n",
    "            below (int): The minumum allowed frequency count.\n",
    "            exceptions (:obj:`list` of :obj:`str`): The exception list.\n",
    "\n",
    "        Returns:\n",
    "            (:obj:`nltk.FreqDist`): Returns frequency dist.\n",
    "\n",
    "        \"\"\"\n",
    "        freq_distN = copy.deepcopy(freq_dist)\n",
    "        for term in freq_dist.keys():\n",
    "            if term in exceptions: continue\n",
    "            if freq_dist[term] < below:\n",
    "                del freq_distN[term]\n",
    "        return freq_distN\n",
    "    "
   ]
  },
  {
   "cell_type": "markdown",
   "metadata": {},
   "source": [
    "## 1. Preparing corpuses"
   ]
  },
  {
   "cell_type": "markdown",
   "metadata": {},
   "source": [
    "### 1.1 Loading a reference English language corpus"
   ]
  },
  {
   "cell_type": "code",
   "execution_count": null,
   "metadata": {
    "collapsed": true
   },
   "outputs": [],
   "source": [
    "#nltk.download()\n",
    "from nltk.corpus import brown"
   ]
  },
  {
   "cell_type": "markdown",
   "metadata": {},
   "source": [
    "### 1.2. Examining and preparing a theme specific corpus"
   ]
  },
  {
   "cell_type": "code",
   "execution_count": null,
   "metadata": {
    "collapsed": true
   },
   "outputs": [],
   "source": [
    "# load the harvested text from wikipedia.\n",
    "with open(\"data/corpuses/schwartz.json\", \"r\") as f: OM_Corpus_text = f.read()\n",
    "OM_CORPUS = json.loads(OM_Corpus_text)"
   ]
  },
  {
   "cell_type": "code",
   "execution_count": null,
   "metadata": {
    "collapsed": true
   },
   "outputs": [],
   "source": [
    "# The total number of wiki articles used:\n",
    "print('Number of documents in the corpus: {}\\n'.format(len(OM_CORPUS)))"
   ]
  },
  {
   "cell_type": "code",
   "execution_count": null,
   "metadata": {
    "collapsed": true
   },
   "outputs": [],
   "source": [
    "# Column names of the the corpus.\n",
    "get_document_fields(OM_CORPUS)"
   ]
  },
  {
   "cell_type": "code",
   "execution_count": null,
   "metadata": {
    "collapsed": true
   },
   "outputs": [],
   "source": [
    "display_documents_list(OM_CORPUS)"
   ]
  },
  {
   "cell_type": "code",
   "execution_count": null,
   "metadata": {
    "collapsed": true
   },
   "outputs": [],
   "source": [
    "list_themes(OM_CORPUS)"
   ]
  },
  {
   "cell_type": "markdown",
   "metadata": {},
   "source": [
    "#### 1.2.1 Selecting the specific theme (a sub-corpus)."
   ]
  },
  {
   "cell_type": "code",
   "execution_count": null,
   "metadata": {
    "collapsed": true
   },
   "outputs": [],
   "source": [
    "CURRENT_THEME = 'hedonism'"
   ]
  },
  {
   "cell_type": "code",
   "execution_count": null,
   "metadata": {
    "collapsed": true
   },
   "outputs": [],
   "source": [
    "THEME_ID = get_theme_id(OM_CORPUS, CURRENT_THEME)\n",
    "display_documents_list(OM_CORPUS, THEME_ID)"
   ]
  },
  {
   "cell_type": "code",
   "execution_count": null,
   "metadata": {
    "collapsed": true
   },
   "outputs": [],
   "source": [
    "# Filter out by any user specified creterias:\n",
    "fcorpus = filter_corpus(OM_CORPUS,\n",
    "                        themes = [THEME_ID],\n",
    "                        docs_to_drop = [],\n",
    "                        func = lambda x: 0 <= x['depth'] < 2)\n",
    "display_documents_list(fcorpus)"
   ]
  },
  {
   "cell_type": "code",
   "execution_count": null,
   "metadata": {
    "collapsed": true
   },
   "outputs": [],
   "source": [
    "# Filter out by document ids\n",
    "fcorpus = filter_corpus(fcorpus,\n",
    "                        themes = [THEME_ID],\n",
    "                        docs_to_drop = []\n",
    "                       )\n",
    "display_documents_list(fcorpus)"
   ]
  },
  {
   "cell_type": "code",
   "execution_count": null,
   "metadata": {
    "collapsed": true
   },
   "outputs": [],
   "source": [
    "fcorpus_text = merge_documents(fcorpus,\n",
    "                          by_theme_id = THEME_ID,\n",
    "                          by_doc_ids = [],\n",
    "                          marker = \" \")\n",
    "print('Length of the corpus in terms of characters: {}'.format(len(fcorpus_text)))"
   ]
  },
  {
   "cell_type": "code",
   "execution_count": null,
   "metadata": {
    "collapsed": true
   },
   "outputs": [],
   "source": [
    "error_check_text = '''a aa aaa aaaa  aaaa2 007 a-2 ; - ' + _  ! \" = \\n \\n'''\n",
    "fcorpus_text =  error_check_text + fcorpus_text\n",
    "print('Length of the corpus in terms of characters: {}'.format(len(fcorpus_text)))"
   ]
  },
  {
   "cell_type": "markdown",
   "metadata": {},
   "source": [
    "## 2. Tokenizing"
   ]
  },
  {
   "cell_type": "code",
   "execution_count": null,
   "metadata": {
    "collapsed": true
   },
   "outputs": [],
   "source": [
    "REFERENCE_CORPUS = nltk.corpus.brown.words()\n",
    "SPECIFIC_CORPUS = tokenizer.tokenize_strip_non_words(fcorpus_text)"
   ]
  },
  {
   "cell_type": "code",
   "execution_count": null,
   "metadata": {
    "collapsed": true
   },
   "outputs": [],
   "source": [
    "print('Term counts: {} Corpus = {}, Ref Corpus = {}'.format(CURRENT_THEME.capitalize(), len(SPECIFIC_CORPUS), len(REFERENCE_CORPUS)))"
   ]
  },
  {
   "cell_type": "code",
   "execution_count": null,
   "metadata": {
    "collapsed": true
   },
   "outputs": [],
   "source": [
    "OUTPUT_FNAME_PREFIX = format_output_fname(CURRENT_THEME)\n",
    "print('The output file prefix: {}'.format(OUTPUT_FNAME_PREFIX))"
   ]
  },
  {
   "cell_type": "markdown",
   "metadata": {},
   "source": [
    "## 3. Cleaning and counting"
   ]
  },
  {
   "cell_type": "markdown",
   "metadata": {},
   "source": [
    "### 3.1 Forming stopwords list\n",
    "A domain specific stop-word is added to standard stopwords. Domain specific stopword needs to be extended through iterations or via state of art computational methods."
   ]
  },
  {
   "cell_type": "code",
   "execution_count": null,
   "metadata": {
    "collapsed": true
   },
   "outputs": [],
   "source": [
    "STOPWORDS_STANDARD = \"data/stopwords_standard.txt\"\n",
    "STOPWORDS_SPECIFIC = \"data/stopwords_openmaker.txt\""
   ]
  },
  {
   "cell_type": "code",
   "execution_count": null,
   "metadata": {
    "collapsed": true
   },
   "outputs": [],
   "source": [
    "C = TextCleaner()\n",
    "C.load_stopwords(STOPWORDS_STANDARD)\n",
    "C.extend_stopwords(STOPWORDS_SPECIFIC)"
   ]
  },
  {
   "cell_type": "code",
   "execution_count": null,
   "metadata": {
    "collapsed": true
   },
   "outputs": [],
   "source": [
    "pp.pprint(C.stopwords)"
   ]
  },
  {
   "cell_type": "markdown",
   "metadata": {},
   "source": [
    "### 3.2 Removing panctuations and stopwords "
   ]
  },
  {
   "cell_type": "code",
   "execution_count": null,
   "metadata": {
    "collapsed": true
   },
   "outputs": [],
   "source": [
    "test_exceptions = ['a','am'] \n",
    "Tf_S = C.clean(SPECIFIC_CORPUS,logging = True, exceptions = test_exceptions)"
   ]
  },
  {
   "cell_type": "code",
   "execution_count": null,
   "metadata": {
    "collapsed": true
   },
   "outputs": [],
   "source": [
    "Tf_S = C.clean(SPECIFIC_CORPUS,logging = True)"
   ]
  },
  {
   "cell_type": "code",
   "execution_count": null,
   "metadata": {
    "collapsed": true
   },
   "outputs": [],
   "source": [
    "Tf_R = C.clean(REFERENCE_CORPUS,logging = True)"
   ]
  },
  {
   "cell_type": "markdown",
   "metadata": {},
   "source": [
    "## 4. Cleaning the specific and reference corpora\n",
    "This is an example case for post proceesing in terms of cleaning. The pre-processing, that is data cleaning/preperation during or right after harvesting should be further improved to avoid such processes at this stage."
   ]
  },
  {
   "cell_type": "markdown",
   "metadata": {},
   "source": [
    "### 4.1 Removing all numeral terms"
   ]
  },
  {
   "cell_type": "code",
   "execution_count": null,
   "metadata": {
    "collapsed": true
   },
   "outputs": [],
   "source": [
    "Tf_S.most_common(10)"
   ]
  },
  {
   "cell_type": "code",
   "execution_count": null,
   "metadata": {
    "collapsed": true
   },
   "outputs": [],
   "source": [
    "Tf_Sn = C.remove_numerals(Tf_S, remove_any = False, exceptions = [])\n",
    "print(\"Corpus Specific: reduction due to all numeral terms = {}\".format(len(Tf_S) - len(Tf_Sn)))\n",
    "Tf_S = Tf_Sn"
   ]
  },
  {
   "cell_type": "code",
   "execution_count": null,
   "metadata": {
    "collapsed": true
   },
   "outputs": [],
   "source": [
    "Tf_Rn = C.remove_numerals(Tf_R, remove_any = False, exceptions = [])\n",
    "print(\"Corpus Reference: Reduction due to all numeral terms = {}\".format(len(Tf_R) - len(Tf_Rn)))\n",
    "Tf_R = Tf_Rn"
   ]
  },
  {
   "cell_type": "markdown",
   "metadata": {},
   "source": [
    "### 4.2 Removing terms that has numerals in them\n",
    "This would remove literals such as 20th, 3D, etc."
   ]
  },
  {
   "cell_type": "code",
   "execution_count": null,
   "metadata": {
    "collapsed": true
   },
   "outputs": [],
   "source": [
    "Tf_Sn = C.remove_numerals(Tf_S, remove_any = True, exceptions = [])\n",
    "print(\"Corpus Specific: reduction due to partially numeral terms = {}\".format(len(Tf_S) - len(Tf_Sn)))\n",
    "Tf_S = Tf_Sn"
   ]
  },
  {
   "cell_type": "code",
   "execution_count": null,
   "metadata": {
    "collapsed": true
   },
   "outputs": [],
   "source": [
    "Tf_Rn = C.remove_numerals(Tf_R, remove_any = True)\n",
    "print(\"Corpus Reference: Reduction due to partially numeral terms = {}\".format(len(Tf_R) - len(Tf_Rn)))\n",
    "Tf_R = Tf_Rn"
   ]
  },
  {
   "cell_type": "markdown",
   "metadata": {},
   "source": [
    "### 4.3 Removing very short terms\n"
   ]
  },
  {
   "cell_type": "code",
   "execution_count": null,
   "metadata": {
    "collapsed": true
   },
   "outputs": [],
   "source": [
    "Tf_Sn = C.remove_short_terms(Tf_S, threshold = 1, exceptions = [])\n",
    "print(\"Corpus Specific: reduction due to short terms = {}\".format(len(Tf_S) - len(Tf_Sn)))\n",
    "Tf_S = Tf_Sn\n",
    "Tf_S.most_common(20)"
   ]
  },
  {
   "cell_type": "code",
   "execution_count": null,
   "metadata": {
    "collapsed": true
   },
   "outputs": [],
   "source": [
    "Tf_Rn = C.remove_short_terms(Tf_R, threshold = 1)\n",
    "print(\"Corpus Reference: reduction due to short terms = {}\".format(len(Tf_R) - len(Tf_Rn)))\n",
    "Tf_R = Tf_Rn\n",
    "Tf_R.most_common(20)"
   ]
  },
  {
   "cell_type": "markdown",
   "metadata": {},
   "source": [
    "### 4.4 Removing terms with rare frequencies"
   ]
  },
  {
   "cell_type": "code",
   "execution_count": null,
   "metadata": {
    "collapsed": true
   },
   "outputs": [],
   "source": [
    "Tf_Sn = C.remove_rare_terms(Tf_S, below = 3)\n",
    "print(\"Corpus Specific: reduction due to rare terms = {}\".format(len(Tf_S) - len(Tf_Sn)))\n",
    "Tf_S = Tf_Sn"
   ]
  },
  {
   "cell_type": "code",
   "execution_count": null,
   "metadata": {
    "collapsed": true,
    "scrolled": true
   },
   "outputs": [],
   "source": [
    "Tf_Rn = C.remove_rare_terms(Tf_R, below = 3)\n",
    "print(\"Corpus Reference: reduction due to rare terms = {}\".format(len(Tf_R) - len(Tf_Rn)))\n",
    "Tf_R = Tf_Rn"
   ]
  },
  {
   "cell_type": "markdown",
   "metadata": {},
   "source": [
    "## 5. Anayzing and comparing corpora"
   ]
  },
  {
   "cell_type": "code",
   "execution_count": null,
   "metadata": {
    "collapsed": true
   },
   "outputs": [],
   "source": [
    "SC = Corpus(Tf_S)\n",
    "RC = Corpus(Tf_R)"
   ]
  },
  {
   "cell_type": "code",
   "execution_count": null,
   "metadata": {
    "collapsed": true
   },
   "outputs": [],
   "source": [
    "SC.list_terms()"
   ]
  },
  {
   "cell_type": "code",
   "execution_count": null,
   "metadata": {
    "collapsed": true
   },
   "outputs": [],
   "source": [
    "RC.plot(20), SC.plot(20), SC.plot(20, cumulative = True)"
   ]
  },
  {
   "cell_type": "code",
   "execution_count": null,
   "metadata": {
    "collapsed": true
   },
   "outputs": [],
   "source": [
    "SC.tabulate(7)"
   ]
  },
  {
   "cell_type": "code",
   "execution_count": null,
   "metadata": {
    "collapsed": true
   },
   "outputs": [],
   "source": [
    "SC.get_top_frequents(10)"
   ]
  },
  {
   "cell_type": "code",
   "execution_count": null,
   "metadata": {
    "collapsed": true
   },
   "outputs": [],
   "source": [
    "SC.get_least_frequents(10)"
   ]
  },
  {
   "cell_type": "markdown",
   "metadata": {},
   "source": [
    "### 5.1 Number of unique words after cleaning "
   ]
  },
  {
   "cell_type": "code",
   "execution_count": null,
   "metadata": {
    "collapsed": true
   },
   "outputs": [],
   "source": [
    "n_Spec = SC.get_count_uniques()\n",
    "n_Ref = RC.get_count_uniques()\n",
    "print('Number of unique words: Specific = {}, Reference = {}'.format(n_Spec, n_Ref))"
   ]
  },
  {
   "cell_type": "markdown",
   "metadata": {},
   "source": [
    "### 5.2  Total word counts after cleaning "
   ]
  },
  {
   "cell_type": "code",
   "execution_count": null,
   "metadata": {
    "collapsed": true
   },
   "outputs": [],
   "source": [
    "s_Spec = SC.get_size()\n",
    "s_Ref =  RC.get_size()\n",
    "print('Total of words: Specific = {}, Reference = {}'.format(s_Spec, s_Ref))"
   ]
  },
  {
   "cell_type": "markdown",
   "metadata": {},
   "source": [
    "### 5.3 Displaying ordered list of terms"
   ]
  },
  {
   "cell_type": "markdown",
   "metadata": {},
   "source": [
    "List of words in the corpus in case, for a visual inspection. Such inspections will be used both to improve tokenization as well as filtering."
   ]
  },
  {
   "cell_type": "code",
   "execution_count": null,
   "metadata": {
    "collapsed": true
   },
   "outputs": [],
   "source": [
    "SC.get_top_frequents(n_Spec)"
   ]
  },
  {
   "cell_type": "markdown",
   "metadata": {},
   "source": [
    "### 5.4 Set of terms/words that occure in both corpus."
   ]
  },
  {
   "cell_type": "code",
   "execution_count": null,
   "metadata": {
    "collapsed": true
   },
   "outputs": [],
   "source": [
    "common_words = SC.intersection(RC)"
   ]
  },
  {
   "cell_type": "code",
   "execution_count": null,
   "metadata": {
    "collapsed": true
   },
   "outputs": [],
   "source": [
    "pp.pprint(common_words)"
   ]
  },
  {
   "cell_type": "code",
   "execution_count": null,
   "metadata": {
    "collapsed": true
   },
   "outputs": [],
   "source": [
    "len(common_words)"
   ]
  },
  {
   "cell_type": "markdown",
   "metadata": {},
   "source": [
    "### 5.5 Set of terms/words that occur in the sample but not in the reference corpus."
   ]
  },
  {
   "cell_type": "markdown",
   "metadata": {},
   "source": [
    "This specific set will be incorporated later below. "
   ]
  },
  {
   "cell_type": "code",
   "execution_count": null,
   "metadata": {
    "collapsed": true
   },
   "outputs": [],
   "source": [
    "input_specifics = SC.difference(RC)"
   ]
  },
  {
   "cell_type": "code",
   "execution_count": null,
   "metadata": {
    "collapsed": true
   },
   "outputs": [],
   "source": [
    "print(len(input_specifics))"
   ]
  },
  {
   "cell_type": "code",
   "execution_count": null,
   "metadata": {
    "collapsed": true
   },
   "outputs": [],
   "source": [
    "pp.pprint(input_specifics)"
   ]
  },
  {
   "cell_type": "markdown",
   "metadata": {},
   "source": [
    "# *from this point down has not been revised yet*\n",
    "Bulent"
   ]
  },
  {
   "cell_type": "markdown",
   "metadata": {},
   "source": [
    "## 7. Stemming"
   ]
  },
  {
   "cell_type": "code",
   "execution_count": null,
   "metadata": {
    "collapsed": true
   },
   "outputs": [],
   "source": [
    "stemmer = PorterStemmer()\n",
    "input_wset_stems = {k: stemmer.stem(k) for k in SC.list_terms()}\n",
    "common_wset_stems = {k: stemmer.stem(k) for k in common_words}\n",
    "pp.pprint(common_wset_stems)"
   ]
  },
  {
   "cell_type": "markdown",
   "metadata": {},
   "source": [
    "## 8. Handling input specific term set"
   ]
  },
  {
   "cell_type": "markdown",
   "metadata": {},
   "source": [
    "### 8.1 Identfying matching stems with common words. \n",
    "\n",
    "Note that the frequency counts are transferred accordingly."
   ]
  },
  {
   "cell_type": "code",
   "execution_count": null,
   "metadata": {
    "collapsed": true
   },
   "outputs": [],
   "source": [
    "specifics = {}\n",
    "for k,v in input_specifics.items():\n",
    "    stem = input_wset_stems[k]\n",
    "    words = [w for w,s in common_wset_stems.items() if s == stem]\n",
    "    if words:\n",
    "        w = words[0]\n",
    "        SC.tf_dist[w] += input_specifics[k]\n",
    "        continue\n",
    "    specifics[k] = v\n",
    "# Removing the words with matching stems from the specific set.\n",
    "print(\"Reduction due to stemm matches: \", len(input_specifics) - len(specifics))\n",
    "input_specifics = specifics"
   ]
  },
  {
   "cell_type": "markdown",
   "metadata": {},
   "source": [
    "### 8.2 Removing open-maker specific terms."
   ]
  },
  {
   "cell_type": "code",
   "execution_count": null,
   "metadata": {
    "collapsed": true
   },
   "outputs": [],
   "source": [
    "with open(\"data/specifics_openmaker.txt\", \"r\") as f:\n",
    "    SPECIFICS_OPENMAKER = set(f.read().strip().split(\"\\n\"))\n",
    "om_specific_stems = {stemmer.stem(k):k for k in SPECIFICS_OPENMAKER}\n",
    "pp.pprint(om_specific_stems)"
   ]
  },
  {
   "cell_type": "code",
   "execution_count": null,
   "metadata": {
    "collapsed": true
   },
   "outputs": [],
   "source": [
    "specific_wset_dirty = {}\n",
    "specific_wset_stems_selected = {}\n",
    "for k,v in input_specifics.items():\n",
    "    stem = stemmer.stem(k)\n",
    "    if stem in om_specific_stems.keys():\n",
    "        if k in specific_wset_stems_selected.keys():\n",
    "            specific_wset_stems_selected[stem] += v\n",
    "        else:\n",
    "            specific_wset_stems_selected[stem] = v\n",
    "        continue\n",
    "    if v > 10:\n",
    "        specific_wset_dirty[k] = v\n",
    "        \n",
    "input_specifics = specific_wset_dirty"
   ]
  },
  {
   "cell_type": "code",
   "execution_count": null,
   "metadata": {
    "collapsed": true
   },
   "outputs": [],
   "source": [
    "# The set of stems to be added to the set with makerness counts.\n",
    "pp.pprint(specific_wset_stems_selected)"
   ]
  },
  {
   "cell_type": "markdown",
   "metadata": {},
   "source": [
    "### 8.3 Remaining frequent input specifics\n",
    "The manual checking can help to determine what should go into \"specifics_openmaker.txt\""
   ]
  },
  {
   "cell_type": "code",
   "execution_count": null,
   "metadata": {
    "collapsed": true
   },
   "outputs": [],
   "source": [
    "print(len(input_specifics))\n",
    "pp.pprint(sorted(input_specifics))"
   ]
  },
  {
   "cell_type": "code",
   "execution_count": null,
   "metadata": {
    "collapsed": true
   },
   "outputs": [],
   "source": [
    "specific_wset_stems = {}\n",
    "for k,v in input_specifics.items():\n",
    "    stem = stemmer.stem(k)\n",
    "    if stem in specific_wset_stems.keys():\n",
    "        specific_wset_stems[stem].append((k,v))\n",
    "    else:\n",
    "        specific_wset_stems[stem] = [(k,v)]\n",
    "pp.pprint(specific_wset_stems)"
   ]
  },
  {
   "cell_type": "markdown",
   "metadata": {},
   "source": [
    "## 9. Computing representation power of common words."
   ]
  },
  {
   "cell_type": "code",
   "execution_count": null,
   "metadata": {
    "collapsed": true
   },
   "outputs": [],
   "source": [
    "# combine\n",
    "word = []\n",
    "freq = []\n",
    "score = []\n",
    "# common_words = [w[0] for w in common_words]\n",
    "nSpec = 1.0 * n_Spec\n",
    "nRef = 1.0 * n_Ref\n",
    "for w in common_words:\n",
    "    # Consider only words whose charcater length is larger than 1\n",
    "    if len(w) > 1:\n",
    "        # Log likelihood scores are computed:\n",
    "        print(w, SC.tf_dist[w], RC.tf_dist[w])\n",
    "        s = log((SC.tf_dist[w] / nSpec) / (RC.tf_dist[w] / nRef))\n",
    "        f = SC.tf_dist[w]\n",
    "        word.append(w)\n",
    "        freq.append(f)\n",
    "        score.append(s)"
   ]
  },
  {
   "cell_type": "code",
   "execution_count": null,
   "metadata": {
    "collapsed": true
   },
   "outputs": [],
   "source": [
    "m = pd.Series(score)\n",
    "f = pd.Series(freq)\n",
    "k = pd.Series(word)\n",
    "stem = k.apply(stemmer.stem)\n",
    "scoring = len(k) * ['common']\n",
    "df_common = pd.DataFrame({'Word':k, 'Stem':stem, 'Score':m,'Tf':f, 'Type':scoring})\n",
    "df_common.sort_values(by='Score', ascending=False, inplace = True)\n",
    "df_common.reset_index(inplace=True, drop=True)\n",
    "df_common.head(20)"
   ]
  },
  {
   "cell_type": "markdown",
   "metadata": {},
   "source": [
    "### 9.1 Computing makerness of specific terms"
   ]
  },
  {
   "cell_type": "code",
   "execution_count": null,
   "metadata": {
    "collapsed": true
   },
   "outputs": [],
   "source": [
    "max_score = df_common.iloc[0,0]\n",
    "threshold_score = 1.0\n",
    "mean_w = df_common.Score[df_common.Score > threshold_score].mean()\n",
    "mean_f = df_common.Tf[df_common.Score > threshold_score].mean()\n",
    "print(max_score, threshold_score, mean_w, mean_f)"
   ]
  },
  {
   "cell_type": "code",
   "execution_count": null,
   "metadata": {
    "collapsed": true
   },
   "outputs": [],
   "source": [
    "def compute_speficif_score(f, maxw=10, minw=1, mean_w=3.0, mean_f=25.0):\n",
    "    return(max(min((f / mean_f) * mean_w, maxw), minw))\n",
    "compute_speficif_score(mean_w, max_score, threshold_score, mean_w, mean_f)"
   ]
  },
  {
   "cell_type": "code",
   "execution_count": null,
   "metadata": {
    "collapsed": true
   },
   "outputs": [],
   "source": [
    "stem = []\n",
    "freq = []\n",
    "score = []\n",
    "for k, v in specific_wset_stems_selected.items():\n",
    "    s = compute_speficif_score(v, max_score, threshold_score, mean_w, mean_f)\n",
    "    stem.append(k)\n",
    "    freq.append(v)\n",
    "    score.append(s)"
   ]
  },
  {
   "cell_type": "markdown",
   "metadata": {},
   "source": [
    "## 10. Tabulating the results and generating the output file"
   ]
  },
  {
   "cell_type": "code",
   "execution_count": null,
   "metadata": {
    "collapsed": true
   },
   "outputs": [],
   "source": [
    "m = pd.Series(score)\n",
    "f = pd.Series(freq)\n",
    "stem = pd.Series(stem)\n",
    "scoring = len(m) * ['specific']\n",
    "df_exclusive= pd.DataFrame({'Stem':stem, 'Score':m,'Tf':f, 'Type':scoring})\n",
    "df_exclusive.sort_values(by='Score', ascending=False, inplace = True)\n",
    "df_exclusive.reset_index(inplace=True, drop=True)\n",
    "df_exclusive.head(20)"
   ]
  },
  {
   "cell_type": "code",
   "execution_count": null,
   "metadata": {
    "collapsed": true
   },
   "outputs": [],
   "source": [
    "df_makerness = df_common.append(df_exclusive, ignore_index=True)\n",
    "df_makerness.sort_values(by='Score', ascending=False, inplace = True)\n",
    "df_makerness.reset_index(inplace=True, drop=True)\n",
    "df_makerness.head(25)"
   ]
  },
  {
   "cell_type": "code",
   "execution_count": null,
   "metadata": {
    "collapsed": true
   },
   "outputs": [],
   "source": [
    "df_makerness.tail(10)"
   ]
  },
  {
   "cell_type": "code",
   "execution_count": null,
   "metadata": {
    "collapsed": true
   },
   "outputs": [],
   "source": [
    "OUTPUT_FOLDER = \"./output/\"\n",
    "csvfile_name = OUTPUT_FOLDER + \"schwartz_\" + OUTPUT_FNAME_PREFIX + \".csv\"\n",
    "with open(csvfile_name, 'w') as csvfile:\n",
    "    #thewriter = csv.writer(csvfile, delimiter=',')\n",
    "    #for k,v in sorted(makerness.items(), key=lambda x:x[1][0], reverse=True): thewriter.writerow([k,v[0],v[1]])\n",
    "    df_makerness.to_csv(csvfile_name)"
   ]
  },
  {
   "cell_type": "markdown",
   "metadata": {},
   "source": [
    "### 10.1 Outputfile name for the theme"
   ]
  },
  {
   "cell_type": "code",
   "execution_count": null,
   "metadata": {
    "collapsed": true
   },
   "outputs": [],
   "source": [
    "print(csvfile_name)"
   ]
  },
  {
   "cell_type": "markdown",
   "metadata": {},
   "source": [
    "### 10.2 Selecting a specific range of scores\n",
    "\n",
    "Note that with the function below a specific slice between a mix and max value can be determined. Besides, the filterin can be applied to any column as long as its data type is a number.\n"
   ]
  },
  {
   "cell_type": "code",
   "execution_count": null,
   "metadata": {
    "collapsed": true
   },
   "outputs": [],
   "source": [
    "def filter_rows(df, col = 'Score', min_t= None, max_t = None):\n",
    "    \"\"\"The method extracts rows from a Pandas data frame for the given score range.\n",
    "    The scores above the minimum and below the maximum is selected.\n",
    "\n",
    "    Note:\n",
    "        This function should be generalized so that it can work on any predicate function.\n",
    "\n",
    "    Args:\n",
    "        df (:obj:`pandas.core.frame.DataFrame`): A Pandas data frame.\n",
    "        col (:obj:`str`): The column that the filtering operation to be applied (default 'Score') \n",
    "        min_t (:obj:`float`): The minumum score threshold to be included when assigned (default None).\n",
    "        max_t (:obj:`float`): The maximum score threshold to be included when assigned (default None).\n",
    "\n",
    "    Returns:\n",
    "        df (:obj:`pandas.core.frame.DataFrame`): A Pandas data frame.\n",
    "    \n",
    "    Raises:\n",
    "            TypeError: Raised if the column data type is not a number.\n",
    "\n",
    "    \"\"\"\n",
    "    col_type = str(df.dtypes[col])\n",
    "    if not ('float' in col_type or 'int' in col_type):\n",
    "        raise TypeError('Column type should be either int or float')\n",
    "        \n",
    "    if min_t:\n",
    "        df = df.loc[df[col] >= min_t]\n",
    "    \n",
    "    if max_t:\n",
    "        df = df.loc[df[col] <= max_t]\n",
    "    \n",
    "    return df"
   ]
  },
  {
   "cell_type": "code",
   "execution_count": null,
   "metadata": {
    "collapsed": true
   },
   "outputs": [],
   "source": [
    "min_t = 4\n",
    "aslice = filter_rows(df_makerness, min_t = min_t)\n",
    "reduced = '_min{}'.format(min_t)\n",
    "filtered_csvfile_name = OUTPUT_FOLDER + \"schwartz_\" + OUTPUT_FNAME_PREFIX + reduced + \".csv\"\n",
    "aslice.to_csv(filtered_csvfile_name)\n",
    "print(filtered_csvfile_name)"
   ]
  },
  {
   "cell_type": "code",
   "execution_count": null,
   "metadata": {
    "collapsed": true
   },
   "outputs": [],
   "source": [
    "#%connect_info"
   ]
  }
 ],
 "metadata": {
  "kernelspec": {
   "display_name": "Python 3",
   "language": "python",
   "name": "python3"
  },
  "language_info": {
   "codemirror_mode": {
    "name": "ipython",
    "version": 3
   },
   "file_extension": ".py",
   "mimetype": "text/x-python",
   "name": "python",
   "nbconvert_exporter": "python",
   "pygments_lexer": "ipython3",
   "version": "3.6.0"
  }
 },
 "nbformat": 4,
 "nbformat_minor": 1
}
